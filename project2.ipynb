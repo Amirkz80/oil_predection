{
 "cells": [
  {
   "attachments": {},
   "cell_type": "markdown",
   "metadata": {},
   "source": [
    "# Project 2: Oil Price Prediction"
   ]
  },
  {
   "attachments": {},
   "cell_type": "markdown",
   "metadata": {},
   "source": [
    "### Step 1: Load the dataset, Change type of columns, Handle missing values and Plot each column's time series graph"
   ]
  },
  {
   "cell_type": "code",
   "execution_count": 2,
   "metadata": {},
   "outputs": [],
   "source": [
    "import numpy as np\n",
    "import pandas as pd\n",
    "import matplotlib.pyplot as plt\n",
    "\n",
    "from sklearn.preprocessing import StandardScaler"
   ]
  },
  {
   "cell_type": "code",
   "execution_count": 3,
   "metadata": {
    "tags": []
   },
   "outputs": [
    {
     "name": "stdout",
     "output_type": "stream",
     "text": [
      "Date         object\n",
      "Price       float64\n",
      "Open        float64\n",
      "High        float64\n",
      "Low         float64\n",
      "Vol.         object\n",
      "Change %     object\n",
      "dtype: object\n",
      "\n",
      "Date        0\n",
      "Price       0\n",
      "Open        0\n",
      "High        0\n",
      "Low         0\n",
      "Vol.        1\n",
      "Change %    0\n",
      "dtype: int64\n"
     ]
    },
    {
     "data": {
      "text/html": [
       "<div>\n",
       "<style scoped>\n",
       "    .dataframe tbody tr th:only-of-type {\n",
       "        vertical-align: middle;\n",
       "    }\n",
       "\n",
       "    .dataframe tbody tr th {\n",
       "        vertical-align: top;\n",
       "    }\n",
       "\n",
       "    .dataframe thead th {\n",
       "        text-align: right;\n",
       "    }\n",
       "</style>\n",
       "<table border=\"1\" class=\"dataframe\">\n",
       "  <thead>\n",
       "    <tr style=\"text-align: right;\">\n",
       "      <th></th>\n",
       "      <th>Price</th>\n",
       "      <th>Open</th>\n",
       "      <th>High</th>\n",
       "      <th>Low</th>\n",
       "    </tr>\n",
       "  </thead>\n",
       "  <tbody>\n",
       "    <tr>\n",
       "      <th>count</th>\n",
       "      <td>1566.000000</td>\n",
       "      <td>1566.00000</td>\n",
       "      <td>1566.000000</td>\n",
       "      <td>1566.000000</td>\n",
       "    </tr>\n",
       "    <tr>\n",
       "      <th>mean</th>\n",
       "      <td>55.154898</td>\n",
       "      <td>55.11825</td>\n",
       "      <td>56.846424</td>\n",
       "      <td>53.234036</td>\n",
       "    </tr>\n",
       "    <tr>\n",
       "      <th>std</th>\n",
       "      <td>32.946323</td>\n",
       "      <td>32.94124</td>\n",
       "      <td>33.770655</td>\n",
       "      <td>31.957943</td>\n",
       "    </tr>\n",
       "    <tr>\n",
       "      <th>min</th>\n",
       "      <td>9.820000</td>\n",
       "      <td>9.95000</td>\n",
       "      <td>10.280000</td>\n",
       "      <td>9.550000</td>\n",
       "    </tr>\n",
       "    <tr>\n",
       "      <th>25%</th>\n",
       "      <td>24.755000</td>\n",
       "      <td>24.85000</td>\n",
       "      <td>25.595000</td>\n",
       "      <td>23.840000</td>\n",
       "    </tr>\n",
       "    <tr>\n",
       "      <th>50%</th>\n",
       "      <td>52.470000</td>\n",
       "      <td>52.47000</td>\n",
       "      <td>54.180000</td>\n",
       "      <td>50.445000</td>\n",
       "    </tr>\n",
       "    <tr>\n",
       "      <th>75%</th>\n",
       "      <td>76.760000</td>\n",
       "      <td>76.85750</td>\n",
       "      <td>78.902500</td>\n",
       "      <td>74.352500</td>\n",
       "    </tr>\n",
       "    <tr>\n",
       "      <th>max</th>\n",
       "      <td>144.490000</td>\n",
       "      <td>144.40000</td>\n",
       "      <td>147.500000</td>\n",
       "      <td>139.540000</td>\n",
       "    </tr>\n",
       "  </tbody>\n",
       "</table>\n",
       "</div>"
      ],
      "text/plain": [
       "             Price        Open         High          Low\n",
       "count  1566.000000  1566.00000  1566.000000  1566.000000\n",
       "mean     55.154898    55.11825    56.846424    53.234036\n",
       "std      32.946323    32.94124    33.770655    31.957943\n",
       "min       9.820000     9.95000    10.280000     9.550000\n",
       "25%      24.755000    24.85000    25.595000    23.840000\n",
       "50%      52.470000    52.47000    54.180000    50.445000\n",
       "75%      76.760000    76.85750    78.902500    74.352500\n",
       "max     144.490000   144.40000   147.500000   139.540000"
      ]
     },
     "execution_count": 3,
     "metadata": {},
     "output_type": "execute_result"
    }
   ],
   "source": [
    "df = pd.read_csv('brent_oil_weekly_30_years.csv')\n",
    "print(df.dtypes)\n",
    "print()\n",
    "print(df.isna().sum())\n",
    "df.describe()"
   ]
  },
  {
   "cell_type": "code",
   "execution_count": 4,
   "metadata": {},
   "outputs": [],
   "source": [
    "class PreProcessData:\n",
    "    def __init__(self, df) -> None:\n",
    "        self.df = df\n",
    "        \n",
    "    def convert_date(self, col):\n",
    "        self.df[col] = pd.to_datetime(self.df[col])\n",
    "\n",
    "    def convert_vol_to_int(self, value):\n",
    "        if type(value) != str or pd.isna(value):\n",
    "            return value\n",
    "        elif value.endswith('K'):\n",
    "            return float(value[:-1]) * 1000\n",
    "        elif value.endswith('M'):\n",
    "            return float(value[:-1]) * 1000000\n",
    "        return float(value)\n",
    "\n",
    "    def convert_change_to_int(self, value):\n",
    "        if type(value) != str or pd.isna(value):\n",
    "            return value\n",
    "        return float(value[:-1])\n",
    "\n",
    "    def handle_missing_values(self, col):\n",
    "        mean = self.df[col].mean()\n",
    "        self.df[col] = self.df[col].fillna(mean)\n",
    "    \n",
    "    def train_test_split(self):\n",
    "        train_data = self.df[self.df['Date'] < '2019-01-01']\n",
    "        test_data = self.df[self.df['Date'] >= '2019-01-01']\n",
    "        train_data = train_data.reset_index(drop=True)\n",
    "        return train_data, test_data\n",
    "\n",
    "\n",
    "data_preprocessing = PreProcessData(df)"
   ]
  },
  {
   "cell_type": "code",
   "execution_count": 5,
   "metadata": {},
   "outputs": [],
   "source": [
    "data_preprocessing.convert_date('Date')\n",
    "df['Vol.'] = df['Vol.'].apply(data_preprocessing.convert_vol_to_int)\n",
    "df['Change %'] = df['Change %'].apply(data_preprocessing.convert_change_to_int)\n",
    "data_preprocessing.handle_missing_values('Vol.')\n"
   ]
  },
  {
   "cell_type": "code",
   "execution_count": 6,
   "metadata": {
    "tags": []
   },
   "outputs": [
    {
     "name": "stdout",
     "output_type": "stream",
     "text": [
      "Date        datetime64[ns]\n",
      "Price              float64\n",
      "Open               float64\n",
      "High               float64\n",
      "Low                float64\n",
      "Vol.               float64\n",
      "Change %           float64\n",
      "dtype: object\n",
      "\n",
      "Date        0\n",
      "Price       0\n",
      "Open        0\n",
      "High        0\n",
      "Low         0\n",
      "Vol.        0\n",
      "Change %    0\n",
      "dtype: int64\n"
     ]
    },
    {
     "data": {
      "text/html": [
       "<div>\n",
       "<style scoped>\n",
       "    .dataframe tbody tr th:only-of-type {\n",
       "        vertical-align: middle;\n",
       "    }\n",
       "\n",
       "    .dataframe tbody tr th {\n",
       "        vertical-align: top;\n",
       "    }\n",
       "\n",
       "    .dataframe thead th {\n",
       "        text-align: right;\n",
       "    }\n",
       "</style>\n",
       "<table border=\"1\" class=\"dataframe\">\n",
       "  <thead>\n",
       "    <tr style=\"text-align: right;\">\n",
       "      <th></th>\n",
       "      <th>Date</th>\n",
       "      <th>Price</th>\n",
       "      <th>Open</th>\n",
       "      <th>High</th>\n",
       "      <th>Low</th>\n",
       "      <th>Vol.</th>\n",
       "      <th>Change %</th>\n",
       "    </tr>\n",
       "  </thead>\n",
       "  <tbody>\n",
       "    <tr>\n",
       "      <th>0</th>\n",
       "      <td>2023-04-09</td>\n",
       "      <td>84.46</td>\n",
       "      <td>85.23</td>\n",
       "      <td>85.52</td>\n",
       "      <td>84.11</td>\n",
       "      <td>6.014990e+05</td>\n",
       "      <td>-0.78</td>\n",
       "    </tr>\n",
       "    <tr>\n",
       "      <th>1</th>\n",
       "      <td>2023-04-02</td>\n",
       "      <td>85.12</td>\n",
       "      <td>86.00</td>\n",
       "      <td>86.44</td>\n",
       "      <td>83.50</td>\n",
       "      <td>1.290000e+06</td>\n",
       "      <td>6.55</td>\n",
       "    </tr>\n",
       "    <tr>\n",
       "      <th>2</th>\n",
       "      <td>2023-03-26</td>\n",
       "      <td>79.89</td>\n",
       "      <td>74.62</td>\n",
       "      <td>79.95</td>\n",
       "      <td>74.39</td>\n",
       "      <td>1.680000e+06</td>\n",
       "      <td>6.53</td>\n",
       "    </tr>\n",
       "    <tr>\n",
       "      <th>3</th>\n",
       "      <td>2023-03-19</td>\n",
       "      <td>74.99</td>\n",
       "      <td>73.01</td>\n",
       "      <td>77.44</td>\n",
       "      <td>70.12</td>\n",
       "      <td>1.060000e+06</td>\n",
       "      <td>2.77</td>\n",
       "    </tr>\n",
       "    <tr>\n",
       "      <th>4</th>\n",
       "      <td>2023-03-12</td>\n",
       "      <td>72.97</td>\n",
       "      <td>82.60</td>\n",
       "      <td>83.48</td>\n",
       "      <td>71.40</td>\n",
       "      <td>2.130000e+06</td>\n",
       "      <td>-11.85</td>\n",
       "    </tr>\n",
       "    <tr>\n",
       "      <th>...</th>\n",
       "      <td>...</td>\n",
       "      <td>...</td>\n",
       "      <td>...</td>\n",
       "      <td>...</td>\n",
       "      <td>...</td>\n",
       "      <td>...</td>\n",
       "      <td>...</td>\n",
       "    </tr>\n",
       "    <tr>\n",
       "      <th>1561</th>\n",
       "      <td>1993-05-09</td>\n",
       "      <td>18.60</td>\n",
       "      <td>19.25</td>\n",
       "      <td>19.27</td>\n",
       "      <td>18.51</td>\n",
       "      <td>8.964000e+04</td>\n",
       "      <td>-3.07</td>\n",
       "    </tr>\n",
       "    <tr>\n",
       "      <th>1562</th>\n",
       "      <td>1993-05-02</td>\n",
       "      <td>19.19</td>\n",
       "      <td>19.25</td>\n",
       "      <td>19.30</td>\n",
       "      <td>18.96</td>\n",
       "      <td>7.882000e+04</td>\n",
       "      <td>0.21</td>\n",
       "    </tr>\n",
       "    <tr>\n",
       "      <th>1563</th>\n",
       "      <td>1993-04-25</td>\n",
       "      <td>19.15</td>\n",
       "      <td>18.98</td>\n",
       "      <td>19.24</td>\n",
       "      <td>18.72</td>\n",
       "      <td>6.736000e+04</td>\n",
       "      <td>1.27</td>\n",
       "    </tr>\n",
       "    <tr>\n",
       "      <th>1564</th>\n",
       "      <td>1993-04-18</td>\n",
       "      <td>18.91</td>\n",
       "      <td>18.82</td>\n",
       "      <td>18.98</td>\n",
       "      <td>18.71</td>\n",
       "      <td>7.749000e+04</td>\n",
       "      <td>0.53</td>\n",
       "    </tr>\n",
       "    <tr>\n",
       "      <th>1565</th>\n",
       "      <td>1993-04-11</td>\n",
       "      <td>18.81</td>\n",
       "      <td>18.98</td>\n",
       "      <td>19.03</td>\n",
       "      <td>18.73</td>\n",
       "      <td>7.920000e+04</td>\n",
       "      <td>0.21</td>\n",
       "    </tr>\n",
       "  </tbody>\n",
       "</table>\n",
       "<p>1566 rows × 7 columns</p>\n",
       "</div>"
      ],
      "text/plain": [
       "           Date  Price   Open   High    Low          Vol.  Change %\n",
       "0    2023-04-09  84.46  85.23  85.52  84.11  6.014990e+05     -0.78\n",
       "1    2023-04-02  85.12  86.00  86.44  83.50  1.290000e+06      6.55\n",
       "2    2023-03-26  79.89  74.62  79.95  74.39  1.680000e+06      6.53\n",
       "3    2023-03-19  74.99  73.01  77.44  70.12  1.060000e+06      2.77\n",
       "4    2023-03-12  72.97  82.60  83.48  71.40  2.130000e+06    -11.85\n",
       "...         ...    ...    ...    ...    ...           ...       ...\n",
       "1561 1993-05-09  18.60  19.25  19.27  18.51  8.964000e+04     -3.07\n",
       "1562 1993-05-02  19.19  19.25  19.30  18.96  7.882000e+04      0.21\n",
       "1563 1993-04-25  19.15  18.98  19.24  18.72  6.736000e+04      1.27\n",
       "1564 1993-04-18  18.91  18.82  18.98  18.71  7.749000e+04      0.53\n",
       "1565 1993-04-11  18.81  18.98  19.03  18.73  7.920000e+04      0.21\n",
       "\n",
       "[1566 rows x 7 columns]"
      ]
     },
     "execution_count": 6,
     "metadata": {},
     "output_type": "execute_result"
    }
   ],
   "source": [
    "print(df.dtypes)\n",
    "print()\n",
    "print(df.isna().sum())\n",
    "df"
   ]
  },
  {
   "cell_type": "code",
   "execution_count": 8,
   "metadata": {
    "tags": []
   },
   "outputs": [
    {
     "data": {
      "image/png": "[encoded data removed]",
      "text/plain": [
       "<Figure size 1200x1200 with 6 Axes>"
      ]
     },
     "metadata": {},
     "output_type": "display_data"
    }
   ],
   "source": [
    "fig, axs = plt.subplots(3, 2, figsize=(12, 12))\n",
    "\n",
    "for i, col in enumerate(df.drop('Date', axis=1).columns):\n",
    "    ax = axs[i // 2, i % 2]\n",
    "    ax.plot(df['Date'], df[col])\n",
    "    ax.set_title(col)\n",
    "    \n",
    "plt.tight_layout()    \n",
    "plt.show()"
   ]
  },
  {
   "attachments": {},
   "cell_type": "markdown",
   "metadata": {},
   "source": [
    "### Step 2: Write a function to return a new dataframe based on document"
   ]
  },
  {
   "cell_type": "code",
   "execution_count": 6,
   "metadata": {
    "tags": []
   },
   "outputs": [],
   "source": [
    "def create_time_series_df(df, week_before, week_after):\n",
    "        new_df = pd.DataFrame()\n",
    "        for i in range(len(df)):\n",
    "            new_data = dict()\n",
    "            current_date = df.iloc[i]['Date']\n",
    "            new_data['t'] = current_date\n",
    "            for n in range(week_before):\n",
    "                for col in df.drop('Date', axis=1).columns:\n",
    "                    if i + n < len(df):\n",
    "                        data = df.iloc[i + n]\n",
    "                        new_data[col + f\"_t-{n + 1}\"] = data[col]\n",
    "                    else:\n",
    "                        new_data[col + f\"_t-{n + 1}\"] = None\n",
    "            for m in range(1, week_after + 1):\n",
    "                col  = 'Price'\n",
    "                if i - m >= 0:\n",
    "                    data = df.iloc[i - m]\n",
    "                    new_data[col + f\"_t+{m}\"] = data['Price']\n",
    "                else:\n",
    "                    new_data[col + f\"_t+{m}\"] = None\n",
    "                    \n",
    "            new_df = pd.concat([new_df, pd.DataFrame(new_data, index=[0])], ignore_index=True)\n",
    "        return new_df"
   ]
  },
  {
   "cell_type": "code",
   "execution_count": 10,
   "metadata": {
    "tags": []
   },
   "outputs": [
    {
     "data": {
      "text/html": [
       "<div>\n",
       "<style scoped>\n",
       "    .dataframe tbody tr th:only-of-type {\n",
       "        vertical-align: middle;\n",
       "    }\n",
       "\n",
       "    .dataframe tbody tr th {\n",
       "        vertical-align: top;\n",
       "    }\n",
       "\n",
       "    .dataframe thead th {\n",
       "        text-align: right;\n",
       "    }\n",
       "</style>\n",
       "<table border=\"1\" class=\"dataframe\">\n",
       "  <thead>\n",
       "    <tr style=\"text-align: right;\">\n",
       "      <th></th>\n",
       "      <th>t</th>\n",
       "      <th>Price_t-1</th>\n",
       "      <th>Open_t-1</th>\n",
       "      <th>High_t-1</th>\n",
       "      <th>Low_t-1</th>\n",
       "      <th>Vol._t-1</th>\n",
       "      <th>Change %_t-1</th>\n",
       "      <th>Price_t-2</th>\n",
       "      <th>Open_t-2</th>\n",
       "      <th>High_t-2</th>\n",
       "      <th>Low_t-2</th>\n",
       "      <th>Vol._t-2</th>\n",
       "      <th>Change %_t-2</th>\n",
       "      <th>Price_t+1</th>\n",
       "    </tr>\n",
       "  </thead>\n",
       "  <tbody>\n",
       "    <tr>\n",
       "      <th>0</th>\n",
       "      <td>2023-04-09</td>\n",
       "      <td>84.46</td>\n",
       "      <td>85.23</td>\n",
       "      <td>85.52</td>\n",
       "      <td>84.11</td>\n",
       "      <td>6.014990e+05</td>\n",
       "      <td>-0.78</td>\n",
       "      <td>85.12</td>\n",
       "      <td>86.00</td>\n",
       "      <td>86.44</td>\n",
       "      <td>83.50</td>\n",
       "      <td>1290000.0</td>\n",
       "      <td>6.55</td>\n",
       "      <td>NaN</td>\n",
       "    </tr>\n",
       "    <tr>\n",
       "      <th>1</th>\n",
       "      <td>2023-04-02</td>\n",
       "      <td>85.12</td>\n",
       "      <td>86.00</td>\n",
       "      <td>86.44</td>\n",
       "      <td>83.50</td>\n",
       "      <td>1.290000e+06</td>\n",
       "      <td>6.55</td>\n",
       "      <td>79.89</td>\n",
       "      <td>74.62</td>\n",
       "      <td>79.95</td>\n",
       "      <td>74.39</td>\n",
       "      <td>1680000.0</td>\n",
       "      <td>6.53</td>\n",
       "      <td>84.46</td>\n",
       "    </tr>\n",
       "    <tr>\n",
       "      <th>2</th>\n",
       "      <td>2023-03-26</td>\n",
       "      <td>79.89</td>\n",
       "      <td>74.62</td>\n",
       "      <td>79.95</td>\n",
       "      <td>74.39</td>\n",
       "      <td>1.680000e+06</td>\n",
       "      <td>6.53</td>\n",
       "      <td>74.99</td>\n",
       "      <td>73.01</td>\n",
       "      <td>77.44</td>\n",
       "      <td>70.12</td>\n",
       "      <td>1060000.0</td>\n",
       "      <td>2.77</td>\n",
       "      <td>85.12</td>\n",
       "    </tr>\n",
       "    <tr>\n",
       "      <th>3</th>\n",
       "      <td>2023-03-19</td>\n",
       "      <td>74.99</td>\n",
       "      <td>73.01</td>\n",
       "      <td>77.44</td>\n",
       "      <td>70.12</td>\n",
       "      <td>1.060000e+06</td>\n",
       "      <td>2.77</td>\n",
       "      <td>72.97</td>\n",
       "      <td>82.60</td>\n",
       "      <td>83.48</td>\n",
       "      <td>71.40</td>\n",
       "      <td>2130000.0</td>\n",
       "      <td>-11.85</td>\n",
       "      <td>79.89</td>\n",
       "    </tr>\n",
       "    <tr>\n",
       "      <th>4</th>\n",
       "      <td>2023-03-12</td>\n",
       "      <td>72.97</td>\n",
       "      <td>82.60</td>\n",
       "      <td>83.48</td>\n",
       "      <td>71.40</td>\n",
       "      <td>2.130000e+06</td>\n",
       "      <td>-11.85</td>\n",
       "      <td>82.78</td>\n",
       "      <td>85.83</td>\n",
       "      <td>86.75</td>\n",
       "      <td>80.73</td>\n",
       "      <td>1490000.0</td>\n",
       "      <td>-3.55</td>\n",
       "      <td>74.99</td>\n",
       "    </tr>\n",
       "    <tr>\n",
       "      <th>...</th>\n",
       "      <td>...</td>\n",
       "      <td>...</td>\n",
       "      <td>...</td>\n",
       "      <td>...</td>\n",
       "      <td>...</td>\n",
       "      <td>...</td>\n",
       "      <td>...</td>\n",
       "      <td>...</td>\n",
       "      <td>...</td>\n",
       "      <td>...</td>\n",
       "      <td>...</td>\n",
       "      <td>...</td>\n",
       "      <td>...</td>\n",
       "      <td>...</td>\n",
       "    </tr>\n",
       "    <tr>\n",
       "      <th>1561</th>\n",
       "      <td>1993-05-09</td>\n",
       "      <td>18.60</td>\n",
       "      <td>19.25</td>\n",
       "      <td>19.27</td>\n",
       "      <td>18.51</td>\n",
       "      <td>8.964000e+04</td>\n",
       "      <td>-3.07</td>\n",
       "      <td>19.19</td>\n",
       "      <td>19.25</td>\n",
       "      <td>19.30</td>\n",
       "      <td>18.96</td>\n",
       "      <td>78820.0</td>\n",
       "      <td>0.21</td>\n",
       "      <td>18.43</td>\n",
       "    </tr>\n",
       "    <tr>\n",
       "      <th>1562</th>\n",
       "      <td>1993-05-02</td>\n",
       "      <td>19.19</td>\n",
       "      <td>19.25</td>\n",
       "      <td>19.30</td>\n",
       "      <td>18.96</td>\n",
       "      <td>7.882000e+04</td>\n",
       "      <td>0.21</td>\n",
       "      <td>19.15</td>\n",
       "      <td>18.98</td>\n",
       "      <td>19.24</td>\n",
       "      <td>18.72</td>\n",
       "      <td>67360.0</td>\n",
       "      <td>1.27</td>\n",
       "      <td>18.60</td>\n",
       "    </tr>\n",
       "    <tr>\n",
       "      <th>1563</th>\n",
       "      <td>1993-04-25</td>\n",
       "      <td>19.15</td>\n",
       "      <td>18.98</td>\n",
       "      <td>19.24</td>\n",
       "      <td>18.72</td>\n",
       "      <td>6.736000e+04</td>\n",
       "      <td>1.27</td>\n",
       "      <td>18.91</td>\n",
       "      <td>18.82</td>\n",
       "      <td>18.98</td>\n",
       "      <td>18.71</td>\n",
       "      <td>77490.0</td>\n",
       "      <td>0.53</td>\n",
       "      <td>19.19</td>\n",
       "    </tr>\n",
       "    <tr>\n",
       "      <th>1564</th>\n",
       "      <td>1993-04-18</td>\n",
       "      <td>18.91</td>\n",
       "      <td>18.82</td>\n",
       "      <td>18.98</td>\n",
       "      <td>18.71</td>\n",
       "      <td>7.749000e+04</td>\n",
       "      <td>0.53</td>\n",
       "      <td>18.81</td>\n",
       "      <td>18.98</td>\n",
       "      <td>19.03</td>\n",
       "      <td>18.73</td>\n",
       "      <td>79200.0</td>\n",
       "      <td>0.21</td>\n",
       "      <td>19.15</td>\n",
       "    </tr>\n",
       "    <tr>\n",
       "      <th>1565</th>\n",
       "      <td>1993-04-11</td>\n",
       "      <td>18.81</td>\n",
       "      <td>18.98</td>\n",
       "      <td>19.03</td>\n",
       "      <td>18.73</td>\n",
       "      <td>7.920000e+04</td>\n",
       "      <td>0.21</td>\n",
       "      <td>NaN</td>\n",
       "      <td>NaN</td>\n",
       "      <td>NaN</td>\n",
       "      <td>NaN</td>\n",
       "      <td>NaN</td>\n",
       "      <td>NaN</td>\n",
       "      <td>18.91</td>\n",
       "    </tr>\n",
       "  </tbody>\n",
       "</table>\n",
       "<p>1566 rows × 14 columns</p>\n",
       "</div>"
      ],
      "text/plain": [
       "              t  Price_t-1  Open_t-1  High_t-1  Low_t-1      Vol._t-1   \n",
       "0    2023-04-09      84.46     85.23     85.52    84.11  6.014990e+05  \\\n",
       "1    2023-04-02      85.12     86.00     86.44    83.50  1.290000e+06   \n",
       "2    2023-03-26      79.89     74.62     79.95    74.39  1.680000e+06   \n",
       "3    2023-03-19      74.99     73.01     77.44    70.12  1.060000e+06   \n",
       "4    2023-03-12      72.97     82.60     83.48    71.40  2.130000e+06   \n",
       "...         ...        ...       ...       ...      ...           ...   \n",
       "1561 1993-05-09      18.60     19.25     19.27    18.51  8.964000e+04   \n",
       "1562 1993-05-02      19.19     19.25     19.30    18.96  7.882000e+04   \n",
       "1563 1993-04-25      19.15     18.98     19.24    18.72  6.736000e+04   \n",
       "1564 1993-04-18      18.91     18.82     18.98    18.71  7.749000e+04   \n",
       "1565 1993-04-11      18.81     18.98     19.03    18.73  7.920000e+04   \n",
       "\n",
       "      Change %_t-1  Price_t-2  Open_t-2  High_t-2  Low_t-2   Vol._t-2   \n",
       "0            -0.78      85.12     86.00     86.44    83.50  1290000.0  \\\n",
       "1             6.55      79.89     74.62     79.95    74.39  1680000.0   \n",
       "2             6.53      74.99     73.01     77.44    70.12  1060000.0   \n",
       "3             2.77      72.97     82.60     83.48    71.40  2130000.0   \n",
       "4           -11.85      82.78     85.83     86.75    80.73  1490000.0   \n",
       "...            ...        ...       ...       ...      ...        ...   \n",
       "1561         -3.07      19.19     19.25     19.30    18.96    78820.0   \n",
       "1562          0.21      19.15     18.98     19.24    18.72    67360.0   \n",
       "1563          1.27      18.91     18.82     18.98    18.71    77490.0   \n",
       "1564          0.53      18.81     18.98     19.03    18.73    79200.0   \n",
       "1565          0.21        NaN       NaN       NaN      NaN        NaN   \n",
       "\n",
       "      Change %_t-2  Price_t+1  \n",
       "0             6.55        NaN  \n",
       "1             6.53      84.46  \n",
       "2             2.77      85.12  \n",
       "3           -11.85      79.89  \n",
       "4            -3.55      74.99  \n",
       "...            ...        ...  \n",
       "1561          0.21      18.43  \n",
       "1562          1.27      18.60  \n",
       "1563          0.53      19.19  \n",
       "1564          0.21      19.15  \n",
       "1565           NaN      18.91  \n",
       "\n",
       "[1566 rows x 14 columns]"
      ]
     },
     "execution_count": 10,
     "metadata": {},
     "output_type": "execute_result"
    }
   ],
   "source": [
    "tmp_df = create_time_series_df(df, week_before=2, week_after=1)\n",
    "tmp_df"
   ]
  },
  {
   "attachments": {},
   "cell_type": "markdown",
   "metadata": {},
   "source": [
    "### Step 3: Split dataset to train and test with the condition of dates less than and greater than 2019"
   ]
  },
  {
   "cell_type": "code",
   "execution_count": 7,
   "metadata": {},
   "outputs": [],
   "source": [
    "train_data, test_data = data_preprocessing.train_test_split()"
   ]
  },
  {
   "cell_type": "code",
   "execution_count": 12,
   "metadata": {
    "tags": []
   },
   "outputs": [
    {
     "data": {
      "text/html": [
       "<div>\n",
       "<style scoped>\n",
       "    .dataframe tbody tr th:only-of-type {\n",
       "        vertical-align: middle;\n",
       "    }\n",
       "\n",
       "    .dataframe tbody tr th {\n",
       "        vertical-align: top;\n",
       "    }\n",
       "\n",
       "    .dataframe thead th {\n",
       "        text-align: right;\n",
       "    }\n",
       "</style>\n",
       "<table border=\"1\" class=\"dataframe\">\n",
       "  <thead>\n",
       "    <tr style=\"text-align: right;\">\n",
       "      <th></th>\n",
       "      <th>Date</th>\n",
       "      <th>Price</th>\n",
       "      <th>Open</th>\n",
       "      <th>High</th>\n",
       "      <th>Low</th>\n",
       "      <th>Vol.</th>\n",
       "      <th>Change %</th>\n",
       "    </tr>\n",
       "  </thead>\n",
       "  <tbody>\n",
       "    <tr>\n",
       "      <th>0</th>\n",
       "      <td>2018-12-30</td>\n",
       "      <td>57.06</td>\n",
       "      <td>53.00</td>\n",
       "      <td>58.31</td>\n",
       "      <td>52.51</td>\n",
       "      <td>1010000.0</td>\n",
       "      <td>9.31</td>\n",
       "    </tr>\n",
       "    <tr>\n",
       "      <th>1</th>\n",
       "      <td>2018-12-23</td>\n",
       "      <td>52.20</td>\n",
       "      <td>53.49</td>\n",
       "      <td>55.29</td>\n",
       "      <td>49.93</td>\n",
       "      <td>272920.0</td>\n",
       "      <td>-3.01</td>\n",
       "    </tr>\n",
       "    <tr>\n",
       "      <th>2</th>\n",
       "      <td>2018-12-16</td>\n",
       "      <td>53.82</td>\n",
       "      <td>60.25</td>\n",
       "      <td>61.21</td>\n",
       "      <td>52.79</td>\n",
       "      <td>1490000.0</td>\n",
       "      <td>-10.72</td>\n",
       "    </tr>\n",
       "    <tr>\n",
       "      <th>3</th>\n",
       "      <td>2018-12-09</td>\n",
       "      <td>60.28</td>\n",
       "      <td>61.34</td>\n",
       "      <td>62.33</td>\n",
       "      <td>59.33</td>\n",
       "      <td>1210000.0</td>\n",
       "      <td>-2.25</td>\n",
       "    </tr>\n",
       "    <tr>\n",
       "      <th>4</th>\n",
       "      <td>2018-12-02</td>\n",
       "      <td>61.67</td>\n",
       "      <td>59.98</td>\n",
       "      <td>63.73</td>\n",
       "      <td>58.36</td>\n",
       "      <td>1650000.0</td>\n",
       "      <td>5.04</td>\n",
       "    </tr>\n",
       "    <tr>\n",
       "      <th>...</th>\n",
       "      <td>...</td>\n",
       "      <td>...</td>\n",
       "      <td>...</td>\n",
       "      <td>...</td>\n",
       "      <td>...</td>\n",
       "      <td>...</td>\n",
       "      <td>...</td>\n",
       "    </tr>\n",
       "    <tr>\n",
       "      <th>1338</th>\n",
       "      <td>1993-05-09</td>\n",
       "      <td>18.60</td>\n",
       "      <td>19.25</td>\n",
       "      <td>19.27</td>\n",
       "      <td>18.51</td>\n",
       "      <td>89640.0</td>\n",
       "      <td>-3.07</td>\n",
       "    </tr>\n",
       "    <tr>\n",
       "      <th>1339</th>\n",
       "      <td>1993-05-02</td>\n",
       "      <td>19.19</td>\n",
       "      <td>19.25</td>\n",
       "      <td>19.30</td>\n",
       "      <td>18.96</td>\n",
       "      <td>78820.0</td>\n",
       "      <td>0.21</td>\n",
       "    </tr>\n",
       "    <tr>\n",
       "      <th>1340</th>\n",
       "      <td>1993-04-25</td>\n",
       "      <td>19.15</td>\n",
       "      <td>18.98</td>\n",
       "      <td>19.24</td>\n",
       "      <td>18.72</td>\n",
       "      <td>67360.0</td>\n",
       "      <td>1.27</td>\n",
       "    </tr>\n",
       "    <tr>\n",
       "      <th>1341</th>\n",
       "      <td>1993-04-18</td>\n",
       "      <td>18.91</td>\n",
       "      <td>18.82</td>\n",
       "      <td>18.98</td>\n",
       "      <td>18.71</td>\n",
       "      <td>77490.0</td>\n",
       "      <td>0.53</td>\n",
       "    </tr>\n",
       "    <tr>\n",
       "      <th>1342</th>\n",
       "      <td>1993-04-11</td>\n",
       "      <td>18.81</td>\n",
       "      <td>18.98</td>\n",
       "      <td>19.03</td>\n",
       "      <td>18.73</td>\n",
       "      <td>79200.0</td>\n",
       "      <td>0.21</td>\n",
       "    </tr>\n",
       "  </tbody>\n",
       "</table>\n",
       "<p>1343 rows × 7 columns</p>\n",
       "</div>"
      ],
      "text/plain": [
       "           Date  Price   Open   High    Low       Vol.  Change %\n",
       "0    2018-12-30  57.06  53.00  58.31  52.51  1010000.0      9.31\n",
       "1    2018-12-23  52.20  53.49  55.29  49.93   272920.0     -3.01\n",
       "2    2018-12-16  53.82  60.25  61.21  52.79  1490000.0    -10.72\n",
       "3    2018-12-09  60.28  61.34  62.33  59.33  1210000.0     -2.25\n",
       "4    2018-12-02  61.67  59.98  63.73  58.36  1650000.0      5.04\n",
       "...         ...    ...    ...    ...    ...        ...       ...\n",
       "1338 1993-05-09  18.60  19.25  19.27  18.51    89640.0     -3.07\n",
       "1339 1993-05-02  19.19  19.25  19.30  18.96    78820.0      0.21\n",
       "1340 1993-04-25  19.15  18.98  19.24  18.72    67360.0      1.27\n",
       "1341 1993-04-18  18.91  18.82  18.98  18.71    77490.0      0.53\n",
       "1342 1993-04-11  18.81  18.98  19.03  18.73    79200.0      0.21\n",
       "\n",
       "[1343 rows x 7 columns]"
      ]
     },
     "execution_count": 12,
     "metadata": {},
     "output_type": "execute_result"
    }
   ],
   "source": [
    "train_data"
   ]
  },
  {
   "cell_type": "code",
   "execution_count": 13,
   "metadata": {
    "tags": []
   },
   "outputs": [
    {
     "data": {
      "text/html": [
       "<div>\n",
       "<style scoped>\n",
       "    .dataframe tbody tr th:only-of-type {\n",
       "        vertical-align: middle;\n",
       "    }\n",
       "\n",
       "    .dataframe tbody tr th {\n",
       "        vertical-align: top;\n",
       "    }\n",
       "\n",
       "    .dataframe thead th {\n",
       "        text-align: right;\n",
       "    }\n",
       "</style>\n",
       "<table border=\"1\" class=\"dataframe\">\n",
       "  <thead>\n",
       "    <tr style=\"text-align: right;\">\n",
       "      <th></th>\n",
       "      <th>Date</th>\n",
       "      <th>Price</th>\n",
       "      <th>Open</th>\n",
       "      <th>High</th>\n",
       "      <th>Low</th>\n",
       "      <th>Vol.</th>\n",
       "      <th>Change %</th>\n",
       "    </tr>\n",
       "  </thead>\n",
       "  <tbody>\n",
       "    <tr>\n",
       "      <th>0</th>\n",
       "      <td>2023-04-09</td>\n",
       "      <td>84.46</td>\n",
       "      <td>85.23</td>\n",
       "      <td>85.52</td>\n",
       "      <td>84.11</td>\n",
       "      <td>6.014990e+05</td>\n",
       "      <td>-0.78</td>\n",
       "    </tr>\n",
       "    <tr>\n",
       "      <th>1</th>\n",
       "      <td>2023-04-02</td>\n",
       "      <td>85.12</td>\n",
       "      <td>86.00</td>\n",
       "      <td>86.44</td>\n",
       "      <td>83.50</td>\n",
       "      <td>1.290000e+06</td>\n",
       "      <td>6.55</td>\n",
       "    </tr>\n",
       "    <tr>\n",
       "      <th>2</th>\n",
       "      <td>2023-03-26</td>\n",
       "      <td>79.89</td>\n",
       "      <td>74.62</td>\n",
       "      <td>79.95</td>\n",
       "      <td>74.39</td>\n",
       "      <td>1.680000e+06</td>\n",
       "      <td>6.53</td>\n",
       "    </tr>\n",
       "    <tr>\n",
       "      <th>3</th>\n",
       "      <td>2023-03-19</td>\n",
       "      <td>74.99</td>\n",
       "      <td>73.01</td>\n",
       "      <td>77.44</td>\n",
       "      <td>70.12</td>\n",
       "      <td>1.060000e+06</td>\n",
       "      <td>2.77</td>\n",
       "    </tr>\n",
       "    <tr>\n",
       "      <th>4</th>\n",
       "      <td>2023-03-12</td>\n",
       "      <td>72.97</td>\n",
       "      <td>82.60</td>\n",
       "      <td>83.48</td>\n",
       "      <td>71.40</td>\n",
       "      <td>2.130000e+06</td>\n",
       "      <td>-11.85</td>\n",
       "    </tr>\n",
       "    <tr>\n",
       "      <th>...</th>\n",
       "      <td>...</td>\n",
       "      <td>...</td>\n",
       "      <td>...</td>\n",
       "      <td>...</td>\n",
       "      <td>...</td>\n",
       "      <td>...</td>\n",
       "      <td>...</td>\n",
       "    </tr>\n",
       "    <tr>\n",
       "      <th>218</th>\n",
       "      <td>2019-02-03</td>\n",
       "      <td>62.10</td>\n",
       "      <td>62.83</td>\n",
       "      <td>63.63</td>\n",
       "      <td>60.60</td>\n",
       "      <td>1.280000e+06</td>\n",
       "      <td>-1.04</td>\n",
       "    </tr>\n",
       "    <tr>\n",
       "      <th>219</th>\n",
       "      <td>2019-01-27</td>\n",
       "      <td>62.75</td>\n",
       "      <td>61.49</td>\n",
       "      <td>62.97</td>\n",
       "      <td>59.49</td>\n",
       "      <td>7.351000e+05</td>\n",
       "      <td>1.80</td>\n",
       "    </tr>\n",
       "    <tr>\n",
       "      <th>220</th>\n",
       "      <td>2019-01-20</td>\n",
       "      <td>61.64</td>\n",
       "      <td>62.74</td>\n",
       "      <td>63.15</td>\n",
       "      <td>60.21</td>\n",
       "      <td>1.220000e+06</td>\n",
       "      <td>-1.69</td>\n",
       "    </tr>\n",
       "    <tr>\n",
       "      <th>221</th>\n",
       "      <td>2019-01-13</td>\n",
       "      <td>62.70</td>\n",
       "      <td>60.62</td>\n",
       "      <td>63.00</td>\n",
       "      <td>58.90</td>\n",
       "      <td>1.380000e+06</td>\n",
       "      <td>3.67</td>\n",
       "    </tr>\n",
       "    <tr>\n",
       "      <th>222</th>\n",
       "      <td>2019-01-06</td>\n",
       "      <td>60.48</td>\n",
       "      <td>57.41</td>\n",
       "      <td>62.49</td>\n",
       "      <td>57.13</td>\n",
       "      <td>1.510000e+06</td>\n",
       "      <td>5.99</td>\n",
       "    </tr>\n",
       "  </tbody>\n",
       "</table>\n",
       "<p>223 rows × 7 columns</p>\n",
       "</div>"
      ],
      "text/plain": [
       "          Date  Price   Open   High    Low          Vol.  Change %\n",
       "0   2023-04-09  84.46  85.23  85.52  84.11  6.014990e+05     -0.78\n",
       "1   2023-04-02  85.12  86.00  86.44  83.50  1.290000e+06      6.55\n",
       "2   2023-03-26  79.89  74.62  79.95  74.39  1.680000e+06      6.53\n",
       "3   2023-03-19  74.99  73.01  77.44  70.12  1.060000e+06      2.77\n",
       "4   2023-03-12  72.97  82.60  83.48  71.40  2.130000e+06    -11.85\n",
       "..         ...    ...    ...    ...    ...           ...       ...\n",
       "218 2019-02-03  62.10  62.83  63.63  60.60  1.280000e+06     -1.04\n",
       "219 2019-01-27  62.75  61.49  62.97  59.49  7.351000e+05      1.80\n",
       "220 2019-01-20  61.64  62.74  63.15  60.21  1.220000e+06     -1.69\n",
       "221 2019-01-13  62.70  60.62  63.00  58.90  1.380000e+06      3.67\n",
       "222 2019-01-06  60.48  57.41  62.49  57.13  1.510000e+06      5.99\n",
       "\n",
       "[223 rows x 7 columns]"
      ]
     },
     "execution_count": 13,
     "metadata": {},
     "output_type": "execute_result"
    }
   ],
   "source": [
    "test_data"
   ]
  },
  {
   "attachments": {},
   "cell_type": "markdown",
   "metadata": {},
   "source": [
    "### Step 4: Create new training set"
   ]
  },
  {
   "cell_type": "code",
   "execution_count": 14,
   "metadata": {
    "tags": []
   },
   "outputs": [],
   "source": [
    "# Only consider features about previous 8 weeks and 1 next week of each date\n",
    "new_train_data = create_time_series_df(train_data, week_before=8, week_after=1)\n",
    "new_test_data = create_time_series_df(test_data, week_before=8, week_after=1)"
   ]
  },
  {
   "cell_type": "code",
   "execution_count": 15,
   "metadata": {},
   "outputs": [],
   "source": [
    "#new_train_data\n",
    "#new_test_data"
   ]
  },
  {
   "cell_type": "code",
   "execution_count": 16,
   "metadata": {
    "tags": []
   },
   "outputs": [],
   "source": [
    "# Only keep the features of prices of previos weeks and price of the next week of each date\n",
    "new_columns = [column for column in new_train_data.columns if ('Price' in column) == True]"
   ]
  },
  {
   "cell_type": "code",
   "execution_count": 17,
   "metadata": {},
   "outputs": [],
   "source": [
    "new_train_data = new_train_data[new_columns]\n",
    "new_test_data = new_test_data[new_columns]"
   ]
  },
  {
   "cell_type": "code",
   "execution_count": 18,
   "metadata": {},
   "outputs": [],
   "source": [
    "# Fill NaN cells with mean of their column\n",
    "\n",
    "new_train_data = new_train_data.fillna(new_train_data.mean())\n",
    "new_test_data = new_test_data.fillna(new_test_data.mean())"
   ]
  },
  {
   "attachments": {},
   "cell_type": "markdown",
   "metadata": {},
   "source": [
    "### step 5: Training the models and visualizing results"
   ]
  },
  {
   "cell_type": "code",
   "execution_count": 19,
   "metadata": {},
   "outputs": [],
   "source": [
    "# Scale the datapoints\n",
    "\n",
    "X_train = new_train_data.iloc[:, :-1]\n",
    "y_train = new_train_data['Price_t+1']\n",
    "\n",
    "X_test = new_test_data.iloc[:, :-1]\n",
    "y_test = new_test_data['Price_t+1']\n",
    "\n",
    "scaler = StandardScaler()\n",
    "\n",
    "scaler.fit(X_train)\n",
    "X_train_scaled = scaler.transform(X_train)\n",
    "X_test_scaled = scaler.transform(X_test)"
   ]
  },
  {
   "cell_type": "code",
   "execution_count": 8,
   "metadata": {},
   "outputs": [],
   "source": [
    "from sklearn.linear_model import LinearRegression\n",
    "from sklearn.svm import SVR\n",
    "from sklearn.ensemble import GradientBoostingRegressor\n",
    "from sklearn.tree import DecisionTreeRegressor\n",
    "\n",
    "from sklearn.metrics import mean_squared_error, mean_absolute_error\n",
    "from sklearn.model_selection import GridSearchCV"
   ]
  },
  {
   "cell_type": "code",
   "execution_count": 21,
   "metadata": {
    "tags": []
   },
   "outputs": [
    {
     "data": {
      "text/html": [
       "<style>#sk-container-id-1 {color: black;background-color: white;}#sk-container-id-1 pre{padding: 0;}#sk-container-id-1 div.sk-toggleable {background-color: white;}#sk-container-id-1 label.sk-toggleable__label {cursor: pointer;display: block;width: 100%;margin-bottom: 0;padding: 0.3em;box-sizing: border-box;text-align: center;}#sk-container-id-1 label.sk-toggleable__label-arrow:before {content: \"▸\";float: left;margin-right: 0.25em;color: #696969;}#sk-container-id-1 label.sk-toggleable__label-arrow:hover:before {color: black;}#sk-container-id-1 div.sk-estimator:hover label.sk-toggleable__label-arrow:before {color: black;}#sk-container-id-1 div.sk-toggleable__content {max-height: 0;max-width: 0;overflow: hidden;text-align: left;background-color: #f0f8ff;}#sk-container-id-1 div.sk-toggleable__content pre {margin: 0.2em;color: black;border-radius: 0.25em;background-color: #f0f8ff;}#sk-container-id-1 input.sk-toggleable__control:checked~div.sk-toggleable__content {max-height: 200px;max-width: 100%;overflow: auto;}#sk-container-id-1 input.sk-toggleable__control:checked~label.sk-toggleable__label-arrow:before {content: \"▾\";}#sk-container-id-1 div.sk-estimator input.sk-toggleable__control:checked~label.sk-toggleable__label {background-color: #d4ebff;}#sk-container-id-1 div.sk-label input.sk-toggleable__control:checked~label.sk-toggleable__label {background-color: #d4ebff;}#sk-container-id-1 input.sk-hidden--visually {border: 0;clip: rect(1px 1px 1px 1px);clip: rect(1px, 1px, 1px, 1px);height: 1px;margin: -1px;overflow: hidden;padding: 0;position: absolute;width: 1px;}#sk-container-id-1 div.sk-estimator {font-family: monospace;background-color: #f0f8ff;border: 1px dotted black;border-radius: 0.25em;box-sizing: border-box;margin-bottom: 0.5em;}#sk-container-id-1 div.sk-estimator:hover {background-color: #d4ebff;}#sk-container-id-1 div.sk-parallel-item::after {content: \"\";width: 100%;border-bottom: 1px solid gray;flex-grow: 1;}#sk-container-id-1 div.sk-label:hover label.sk-toggleable__label {background-color: #d4ebff;}#sk-container-id-1 div.sk-serial::before {content: \"\";position: absolute;border-left: 1px solid gray;box-sizing: border-box;top: 0;bottom: 0;left: 50%;z-index: 0;}#sk-container-id-1 div.sk-serial {display: flex;flex-direction: column;align-items: center;background-color: white;padding-right: 0.2em;padding-left: 0.2em;position: relative;}#sk-container-id-1 div.sk-item {position: relative;z-index: 1;}#sk-container-id-1 div.sk-parallel {display: flex;align-items: stretch;justify-content: center;background-color: white;position: relative;}#sk-container-id-1 div.sk-item::before, #sk-container-id-1 div.sk-parallel-item::before {content: \"\";position: absolute;border-left: 1px solid gray;box-sizing: border-box;top: 0;bottom: 0;left: 50%;z-index: -1;}#sk-container-id-1 div.sk-parallel-item {display: flex;flex-direction: column;z-index: 1;position: relative;background-color: white;}#sk-container-id-1 div.sk-parallel-item:first-child::after {align-self: flex-end;width: 50%;}#sk-container-id-1 div.sk-parallel-item:last-child::after {align-self: flex-start;width: 50%;}#sk-container-id-1 div.sk-parallel-item:only-child::after {width: 0;}#sk-container-id-1 div.sk-dashed-wrapped {border: 1px dashed gray;margin: 0 0.4em 0.5em 0.4em;box-sizing: border-box;padding-bottom: 0.4em;background-color: white;}#sk-container-id-1 div.sk-label label {font-family: monospace;font-weight: bold;display: inline-block;line-height: 1.2em;}#sk-container-id-1 div.sk-label-container {text-align: center;}#sk-container-id-1 div.sk-container {/* jupyter's `normalize.less` sets `[hidden] { display: none; }` but bootstrap.min.css set `[hidden] { display: none !important; }` so we also need the `!important` here to be able to override the default hidden behavior on the sphinx rendered scikit-learn.org. See: https://github.com/scikit-learn/scikit-learn/issues/21755 */display: inline-block !important;position: relative;}#sk-container-id-1 div.sk-text-repr-fallback {display: none;}</style><div id=\"sk-container-id-1\" class=\"sk-top-container\"><div class=\"sk-text-repr-fallback\"><pre>LinearRegression()</pre><b>In a Jupyter environment, please rerun this cell to show the HTML representation or trust the notebook. <br />On GitHub, the HTML representation is unable to render, please try loading this page with nbviewer.org.</b></div><div class=\"sk-container\" hidden><div class=\"sk-item\"><div class=\"sk-estimator sk-toggleable\"><input class=\"sk-toggleable__control sk-hidden--visually\" id=\"sk-estimator-id-1\" type=\"checkbox\" checked><label for=\"sk-estimator-id-1\" class=\"sk-toggleable__label sk-toggleable__label-arrow\">LinearRegression</label><div class=\"sk-toggleable__content\"><pre>LinearRegression()</pre></div></div></div></div></div>"
      ],
      "text/plain": [
       "LinearRegression()"
      ]
     },
     "execution_count": 21,
     "metadata": {},
     "output_type": "execute_result"
    }
   ],
   "source": [
    "# Train lineaer Regression model\n",
    "linreg = LinearRegression()\n",
    "\n",
    "linreg.fit(X_train_scaled, y_train)"
   ]
  },
  {
   "cell_type": "code",
   "execution_count": 22,
   "metadata": {},
   "outputs": [
    {
     "name": "stdout",
     "output_type": "stream",
     "text": [
      "MSE: 17.50826429473429 \n",
      "MAE: 2.937049632152545\n"
     ]
    }
   ],
   "source": [
    "# Evaluate lineaer Regression model\n",
    "y_pred_lin = linreg.predict(X_test_scaled)\n",
    "y_truth_lin = y_test\n",
    "\n",
    "print('MSE:', mean_squared_error(y_pred_lin, y_truth_lin), '\\nMAE:', mean_absolute_error(y_pred_lin, y_truth_lin))"
   ]
  },
  {
   "cell_type": "code",
   "execution_count": 23,
   "metadata": {
    "tags": []
   },
   "outputs": [
    {
     "data": {
      "text/plain": [
       "\"\\nparameters = {\\n    'kernel': ('linear', 'rbf','poly'),\\n    'C':[1, 10, 100],\\n    'gamma': [1e-2, 0.1, 0.4, 0.8],\\n    'epsilon':[1e-2, 0.1, 0.4, 0.8]\\n}\\n\""
      ]
     },
     "execution_count": 23,
     "metadata": {},
     "output_type": "execute_result"
    }
   ],
   "source": [
    "# Finding best SVR parameters by suing GridSearchCV\n",
    "svr = SVR()\n",
    "\n",
    "'''\n",
    "parameters = {\n",
    "    'kernel': ('linear', 'rbf','poly'),\n",
    "    'C':[1, 10, 100],\n",
    "    'gamma': [1e-2, 0.1, 0.4, 0.8],\n",
    "    'epsilon':[1e-2, 0.1, 0.4, 0.8]\n",
    "}\n",
    "'''\n",
    "\n",
    "# After using GridSearchCV, the best parameters are:\n",
    "# {'C': 100, 'epsilon': 0.1, 'gamma': 0.01, 'kernel': 'linear'}\n",
    "\n",
    "#grid_svr = GridSearchCV(svr, parameters, cv=3, verbose=10, n_jobs=-1)\n",
    "#grid_svr.fit(X_train_scaled, y_train)"
   ]
  },
  {
   "cell_type": "code",
   "execution_count": 24,
   "metadata": {
    "tags": []
   },
   "outputs": [
    {
     "data": {
      "text/html": [
       "<style>#sk-container-id-2 {color: black;background-color: white;}#sk-container-id-2 pre{padding: 0;}#sk-container-id-2 div.sk-toggleable {background-color: white;}#sk-container-id-2 label.sk-toggleable__label {cursor: pointer;display: block;width: 100%;margin-bottom: 0;padding: 0.3em;box-sizing: border-box;text-align: center;}#sk-container-id-2 label.sk-toggleable__label-arrow:before {content: \"▸\";float: left;margin-right: 0.25em;color: #696969;}#sk-container-id-2 label.sk-toggleable__label-arrow:hover:before {color: black;}#sk-container-id-2 div.sk-estimator:hover label.sk-toggleable__label-arrow:before {color: black;}#sk-container-id-2 div.sk-toggleable__content {max-height: 0;max-width: 0;overflow: hidden;text-align: left;background-color: #f0f8ff;}#sk-container-id-2 div.sk-toggleable__content pre {margin: 0.2em;color: black;border-radius: 0.25em;background-color: #f0f8ff;}#sk-container-id-2 input.sk-toggleable__control:checked~div.sk-toggleable__content {max-height: 200px;max-width: 100%;overflow: auto;}#sk-container-id-2 input.sk-toggleable__control:checked~label.sk-toggleable__label-arrow:before {content: \"▾\";}#sk-container-id-2 div.sk-estimator input.sk-toggleable__control:checked~label.sk-toggleable__label {background-color: #d4ebff;}#sk-container-id-2 div.sk-label input.sk-toggleable__control:checked~label.sk-toggleable__label {background-color: #d4ebff;}#sk-container-id-2 input.sk-hidden--visually {border: 0;clip: rect(1px 1px 1px 1px);clip: rect(1px, 1px, 1px, 1px);height: 1px;margin: -1px;overflow: hidden;padding: 0;position: absolute;width: 1px;}#sk-container-id-2 div.sk-estimator {font-family: monospace;background-color: #f0f8ff;border: 1px dotted black;border-radius: 0.25em;box-sizing: border-box;margin-bottom: 0.5em;}#sk-container-id-2 div.sk-estimator:hover {background-color: #d4ebff;}#sk-container-id-2 div.sk-parallel-item::after {content: \"\";width: 100%;border-bottom: 1px solid gray;flex-grow: 1;}#sk-container-id-2 div.sk-label:hover label.sk-toggleable__label {background-color: #d4ebff;}#sk-container-id-2 div.sk-serial::before {content: \"\";position: absolute;border-left: 1px solid gray;box-sizing: border-box;top: 0;bottom: 0;left: 50%;z-index: 0;}#sk-container-id-2 div.sk-serial {display: flex;flex-direction: column;align-items: center;background-color: white;padding-right: 0.2em;padding-left: 0.2em;position: relative;}#sk-container-id-2 div.sk-item {position: relative;z-index: 1;}#sk-container-id-2 div.sk-parallel {display: flex;align-items: stretch;justify-content: center;background-color: white;position: relative;}#sk-container-id-2 div.sk-item::before, #sk-container-id-2 div.sk-parallel-item::before {content: \"\";position: absolute;border-left: 1px solid gray;box-sizing: border-box;top: 0;bottom: 0;left: 50%;z-index: -1;}#sk-container-id-2 div.sk-parallel-item {display: flex;flex-direction: column;z-index: 1;position: relative;background-color: white;}#sk-container-id-2 div.sk-parallel-item:first-child::after {align-self: flex-end;width: 50%;}#sk-container-id-2 div.sk-parallel-item:last-child::after {align-self: flex-start;width: 50%;}#sk-container-id-2 div.sk-parallel-item:only-child::after {width: 0;}#sk-container-id-2 div.sk-dashed-wrapped {border: 1px dashed gray;margin: 0 0.4em 0.5em 0.4em;box-sizing: border-box;padding-bottom: 0.4em;background-color: white;}#sk-container-id-2 div.sk-label label {font-family: monospace;font-weight: bold;display: inline-block;line-height: 1.2em;}#sk-container-id-2 div.sk-label-container {text-align: center;}#sk-container-id-2 div.sk-container {/* jupyter's `normalize.less` sets `[hidden] { display: none; }` but bootstrap.min.css set `[hidden] { display: none !important; }` so we also need the `!important` here to be able to override the default hidden behavior on the sphinx rendered scikit-learn.org. See: https://github.com/scikit-learn/scikit-learn/issues/21755 */display: inline-block !important;position: relative;}#sk-container-id-2 div.sk-text-repr-fallback {display: none;}</style><div id=\"sk-container-id-2\" class=\"sk-top-container\"><div class=\"sk-text-repr-fallback\"><pre>SVR(C=100, gamma=0.01, kernel=&#x27;linear&#x27;)</pre><b>In a Jupyter environment, please rerun this cell to show the HTML representation or trust the notebook. <br />On GitHub, the HTML representation is unable to render, please try loading this page with nbviewer.org.</b></div><div class=\"sk-container\" hidden><div class=\"sk-item\"><div class=\"sk-estimator sk-toggleable\"><input class=\"sk-toggleable__control sk-hidden--visually\" id=\"sk-estimator-id-2\" type=\"checkbox\" checked><label for=\"sk-estimator-id-2\" class=\"sk-toggleable__label sk-toggleable__label-arrow\">SVR</label><div class=\"sk-toggleable__content\"><pre>SVR(C=100, gamma=0.01, kernel=&#x27;linear&#x27;)</pre></div></div></div></div></div>"
      ],
      "text/plain": [
       "SVR(C=100, gamma=0.01, kernel='linear')"
      ]
     },
     "execution_count": 24,
     "metadata": {},
     "output_type": "execute_result"
    }
   ],
   "source": [
    "# Training SVR with the best parameters\n",
    "svr = SVR(C=100, epsilon=0.1, gamma=0.01, kernel='linear')\n",
    "\n",
    "svr.fit(X_train_scaled, y_train)"
   ]
  },
  {
   "cell_type": "code",
   "execution_count": 25,
   "metadata": {},
   "outputs": [
    {
     "name": "stdout",
     "output_type": "stream",
     "text": [
      "MSE: 17.651480160571374 \n",
      "MAE: 2.9354787631287804\n"
     ]
    }
   ],
   "source": [
    "# Evaluate SVR model\n",
    "y_pred_svr = svr.predict(X_test_scaled)\n",
    "y_truth_svr = y_test\n",
    "\n",
    "print('MSE:', mean_squared_error(y_pred_svr, y_truth_svr), '\\nMAE:', mean_absolute_error(y_pred_svr, y_truth_svr))"
   ]
  },
  {
   "cell_type": "code",
   "execution_count": 26,
   "metadata": {},
   "outputs": [],
   "source": [
    "# Finding best GBR parameters by suing GridSearchCV\n",
    "gbr = GradientBoostingRegressor()\n",
    "'''\n",
    "parameters = {\n",
    "    'max_depth': [80, 90, 100, 110],\n",
    "    'max_features': [2, 3],\n",
    "    'min_samples_leaf': [3, 4, 5],\n",
    "    'min_samples_split': [8, 10, 12],\n",
    "    'n_estimators': [100, 200, 300, 1000]\n",
    "}\n",
    "'''\n",
    "# After using GridSearchCV, the best parameters are:\n",
    "# {'max_depth': 110, 'max_features': 3, 'min_samples_leaf': 4, 'min_samples_split': 10, 'n_estimators': 1000}\n",
    "# but the default numbers fot parameters gives a lower ERROR\n",
    "\n",
    "#grid_gbr = GridSearchCV(gbr, parameters, scoring=['neg_mean_absolute_error', 'neg_mean_squared_error'], cv=3, verbose=10, n_jobs=-1, refit=False)\n",
    "#grid_gbr.fit(X_train_scaled, y_train)"
   ]
  },
  {
   "cell_type": "code",
   "execution_count": 27,
   "metadata": {
    "tags": []
   },
   "outputs": [
    {
     "data": {
      "text/html": [
       "<style>#sk-container-id-3 {color: black;background-color: white;}#sk-container-id-3 pre{padding: 0;}#sk-container-id-3 div.sk-toggleable {background-color: white;}#sk-container-id-3 label.sk-toggleable__label {cursor: pointer;display: block;width: 100%;margin-bottom: 0;padding: 0.3em;box-sizing: border-box;text-align: center;}#sk-container-id-3 label.sk-toggleable__label-arrow:before {content: \"▸\";float: left;margin-right: 0.25em;color: #696969;}#sk-container-id-3 label.sk-toggleable__label-arrow:hover:before {color: black;}#sk-container-id-3 div.sk-estimator:hover label.sk-toggleable__label-arrow:before {color: black;}#sk-container-id-3 div.sk-toggleable__content {max-height: 0;max-width: 0;overflow: hidden;text-align: left;background-color: #f0f8ff;}#sk-container-id-3 div.sk-toggleable__content pre {margin: 0.2em;color: black;border-radius: 0.25em;background-color: #f0f8ff;}#sk-container-id-3 input.sk-toggleable__control:checked~div.sk-toggleable__content {max-height: 200px;max-width: 100%;overflow: auto;}#sk-container-id-3 input.sk-toggleable__control:checked~label.sk-toggleable__label-arrow:before {content: \"▾\";}#sk-container-id-3 div.sk-estimator input.sk-toggleable__control:checked~label.sk-toggleable__label {background-color: #d4ebff;}#sk-container-id-3 div.sk-label input.sk-toggleable__control:checked~label.sk-toggleable__label {background-color: #d4ebff;}#sk-container-id-3 input.sk-hidden--visually {border: 0;clip: rect(1px 1px 1px 1px);clip: rect(1px, 1px, 1px, 1px);height: 1px;margin: -1px;overflow: hidden;padding: 0;position: absolute;width: 1px;}#sk-container-id-3 div.sk-estimator {font-family: monospace;background-color: #f0f8ff;border: 1px dotted black;border-radius: 0.25em;box-sizing: border-box;margin-bottom: 0.5em;}#sk-container-id-3 div.sk-estimator:hover {background-color: #d4ebff;}#sk-container-id-3 div.sk-parallel-item::after {content: \"\";width: 100%;border-bottom: 1px solid gray;flex-grow: 1;}#sk-container-id-3 div.sk-label:hover label.sk-toggleable__label {background-color: #d4ebff;}#sk-container-id-3 div.sk-serial::before {content: \"\";position: absolute;border-left: 1px solid gray;box-sizing: border-box;top: 0;bottom: 0;left: 50%;z-index: 0;}#sk-container-id-3 div.sk-serial {display: flex;flex-direction: column;align-items: center;background-color: white;padding-right: 0.2em;padding-left: 0.2em;position: relative;}#sk-container-id-3 div.sk-item {position: relative;z-index: 1;}#sk-container-id-3 div.sk-parallel {display: flex;align-items: stretch;justify-content: center;background-color: white;position: relative;}#sk-container-id-3 div.sk-item::before, #sk-container-id-3 div.sk-parallel-item::before {content: \"\";position: absolute;border-left: 1px solid gray;box-sizing: border-box;top: 0;bottom: 0;left: 50%;z-index: -1;}#sk-container-id-3 div.sk-parallel-item {display: flex;flex-direction: column;z-index: 1;position: relative;background-color: white;}#sk-container-id-3 div.sk-parallel-item:first-child::after {align-self: flex-end;width: 50%;}#sk-container-id-3 div.sk-parallel-item:last-child::after {align-self: flex-start;width: 50%;}#sk-container-id-3 div.sk-parallel-item:only-child::after {width: 0;}#sk-container-id-3 div.sk-dashed-wrapped {border: 1px dashed gray;margin: 0 0.4em 0.5em 0.4em;box-sizing: border-box;padding-bottom: 0.4em;background-color: white;}#sk-container-id-3 div.sk-label label {font-family: monospace;font-weight: bold;display: inline-block;line-height: 1.2em;}#sk-container-id-3 div.sk-label-container {text-align: center;}#sk-container-id-3 div.sk-container {/* jupyter's `normalize.less` sets `[hidden] { display: none; }` but bootstrap.min.css set `[hidden] { display: none !important; }` so we also need the `!important` here to be able to override the default hidden behavior on the sphinx rendered scikit-learn.org. See: https://github.com/scikit-learn/scikit-learn/issues/21755 */display: inline-block !important;position: relative;}#sk-container-id-3 div.sk-text-repr-fallback {display: none;}</style><div id=\"sk-container-id-3\" class=\"sk-top-container\"><div class=\"sk-text-repr-fallback\"><pre>GradientBoostingRegressor()</pre><b>In a Jupyter environment, please rerun this cell to show the HTML representation or trust the notebook. <br />On GitHub, the HTML representation is unable to render, please try loading this page with nbviewer.org.</b></div><div class=\"sk-container\" hidden><div class=\"sk-item\"><div class=\"sk-estimator sk-toggleable\"><input class=\"sk-toggleable__control sk-hidden--visually\" id=\"sk-estimator-id-3\" type=\"checkbox\" checked><label for=\"sk-estimator-id-3\" class=\"sk-toggleable__label sk-toggleable__label-arrow\">GradientBoostingRegressor</label><div class=\"sk-toggleable__content\"><pre>GradientBoostingRegressor()</pre></div></div></div></div></div>"
      ],
      "text/plain": [
       "GradientBoostingRegressor()"
      ]
     },
     "execution_count": 27,
     "metadata": {},
     "output_type": "execute_result"
    }
   ],
   "source": [
    "# Training GBR with the best parameters\n",
    "gbr = GradientBoostingRegressor()\n",
    "\n",
    "gbr.fit(X_train_scaled, y_train)"
   ]
  },
  {
   "cell_type": "code",
   "execution_count": 28,
   "metadata": {},
   "outputs": [
    {
     "name": "stdout",
     "output_type": "stream",
     "text": [
      "MSE: 19.213487102475394 \n",
      "MAE: 3.0666052965509434\n"
     ]
    }
   ],
   "source": [
    "# Evaluate GradientBoostingRegressor model\n",
    "y_pred_gbr = gbr.predict(X_test_scaled)\n",
    "y_truth_gbr = y_test\n",
    "\n",
    "print('MSE:', mean_squared_error(y_pred_gbr, y_truth_gbr), '\\nMAE:', mean_absolute_error(y_pred_gbr, y_truth_gbr))"
   ]
  },
  {
   "cell_type": "code",
   "execution_count": 29,
   "metadata": {
    "tags": []
   },
   "outputs": [
    {
     "data": {
      "text/plain": [
       "\"\\nparameters = {\\n    'max_depth': list(range(1, 6)),\\n    'min_samples_leaf': list(range(2, 6)),\\n    'min_samples_split': list(range(1, 6))\\n}\\n\""
      ]
     },
     "execution_count": 29,
     "metadata": {},
     "output_type": "execute_result"
    }
   ],
   "source": [
    "# Finding best DTR parameters by suing GridSearchCV\n",
    "dtr = DecisionTreeRegressor()\n",
    "\n",
    "'''\n",
    "parameters = {\n",
    "    'max_depth': list(range(1, 6)),\n",
    "    'min_samples_leaf': list(range(2, 6)),\n",
    "    'min_samples_split': list(range(1, 6))\n",
    "}\n",
    "'''\n",
    "\n",
    "# After using GridSearchCV, the best parameters are:\n",
    "# {'max_depth': 5, 'min_samples_leaf': 4, 'min_samples_split': 3}\n",
    "\n",
    "# grid_dtr = GridSearchCV(dtr, parameters, scoring='neg_mean_absolute_error', cv=9, verbose=10, n_jobs=-1)\n",
    "# grid_dtr.fit(X_train_scaled, y_train)"
   ]
  },
  {
   "cell_type": "code",
   "execution_count": 30,
   "metadata": {
    "tags": []
   },
   "outputs": [
    {
     "data": {
      "text/html": [
       "<style>#sk-container-id-4 {color: black;background-color: white;}#sk-container-id-4 pre{padding: 0;}#sk-container-id-4 div.sk-toggleable {background-color: white;}#sk-container-id-4 label.sk-toggleable__label {cursor: pointer;display: block;width: 100%;margin-bottom: 0;padding: 0.3em;box-sizing: border-box;text-align: center;}#sk-container-id-4 label.sk-toggleable__label-arrow:before {content: \"▸\";float: left;margin-right: 0.25em;color: #696969;}#sk-container-id-4 label.sk-toggleable__label-arrow:hover:before {color: black;}#sk-container-id-4 div.sk-estimator:hover label.sk-toggleable__label-arrow:before {color: black;}#sk-container-id-4 div.sk-toggleable__content {max-height: 0;max-width: 0;overflow: hidden;text-align: left;background-color: #f0f8ff;}#sk-container-id-4 div.sk-toggleable__content pre {margin: 0.2em;color: black;border-radius: 0.25em;background-color: #f0f8ff;}#sk-container-id-4 input.sk-toggleable__control:checked~div.sk-toggleable__content {max-height: 200px;max-width: 100%;overflow: auto;}#sk-container-id-4 input.sk-toggleable__control:checked~label.sk-toggleable__label-arrow:before {content: \"▾\";}#sk-container-id-4 div.sk-estimator input.sk-toggleable__control:checked~label.sk-toggleable__label {background-color: #d4ebff;}#sk-container-id-4 div.sk-label input.sk-toggleable__control:checked~label.sk-toggleable__label {background-color: #d4ebff;}#sk-container-id-4 input.sk-hidden--visually {border: 0;clip: rect(1px 1px 1px 1px);clip: rect(1px, 1px, 1px, 1px);height: 1px;margin: -1px;overflow: hidden;padding: 0;position: absolute;width: 1px;}#sk-container-id-4 div.sk-estimator {font-family: monospace;background-color: #f0f8ff;border: 1px dotted black;border-radius: 0.25em;box-sizing: border-box;margin-bottom: 0.5em;}#sk-container-id-4 div.sk-estimator:hover {background-color: #d4ebff;}#sk-container-id-4 div.sk-parallel-item::after {content: \"\";width: 100%;border-bottom: 1px solid gray;flex-grow: 1;}#sk-container-id-4 div.sk-label:hover label.sk-toggleable__label {background-color: #d4ebff;}#sk-container-id-4 div.sk-serial::before {content: \"\";position: absolute;border-left: 1px solid gray;box-sizing: border-box;top: 0;bottom: 0;left: 50%;z-index: 0;}#sk-container-id-4 div.sk-serial {display: flex;flex-direction: column;align-items: center;background-color: white;padding-right: 0.2em;padding-left: 0.2em;position: relative;}#sk-container-id-4 div.sk-item {position: relative;z-index: 1;}#sk-container-id-4 div.sk-parallel {display: flex;align-items: stretch;justify-content: center;background-color: white;position: relative;}#sk-container-id-4 div.sk-item::before, #sk-container-id-4 div.sk-parallel-item::before {content: \"\";position: absolute;border-left: 1px solid gray;box-sizing: border-box;top: 0;bottom: 0;left: 50%;z-index: -1;}#sk-container-id-4 div.sk-parallel-item {display: flex;flex-direction: column;z-index: 1;position: relative;background-color: white;}#sk-container-id-4 div.sk-parallel-item:first-child::after {align-self: flex-end;width: 50%;}#sk-container-id-4 div.sk-parallel-item:last-child::after {align-self: flex-start;width: 50%;}#sk-container-id-4 div.sk-parallel-item:only-child::after {width: 0;}#sk-container-id-4 div.sk-dashed-wrapped {border: 1px dashed gray;margin: 0 0.4em 0.5em 0.4em;box-sizing: border-box;padding-bottom: 0.4em;background-color: white;}#sk-container-id-4 div.sk-label label {font-family: monospace;font-weight: bold;display: inline-block;line-height: 1.2em;}#sk-container-id-4 div.sk-label-container {text-align: center;}#sk-container-id-4 div.sk-container {/* jupyter's `normalize.less` sets `[hidden] { display: none; }` but bootstrap.min.css set `[hidden] { display: none !important; }` so we also need the `!important` here to be able to override the default hidden behavior on the sphinx rendered scikit-learn.org. See: https://github.com/scikit-learn/scikit-learn/issues/21755 */display: inline-block !important;position: relative;}#sk-container-id-4 div.sk-text-repr-fallback {display: none;}</style><div id=\"sk-container-id-4\" class=\"sk-top-container\"><div class=\"sk-text-repr-fallback\"><pre>DecisionTreeRegressor(max_depth=5, min_samples_leaf=4, min_samples_split=3)</pre><b>In a Jupyter environment, please rerun this cell to show the HTML representation or trust the notebook. <br />On GitHub, the HTML representation is unable to render, please try loading this page with nbviewer.org.</b></div><div class=\"sk-container\" hidden><div class=\"sk-item\"><div class=\"sk-estimator sk-toggleable\"><input class=\"sk-toggleable__control sk-hidden--visually\" id=\"sk-estimator-id-4\" type=\"checkbox\" checked><label for=\"sk-estimator-id-4\" class=\"sk-toggleable__label sk-toggleable__label-arrow\">DecisionTreeRegressor</label><div class=\"sk-toggleable__content\"><pre>DecisionTreeRegressor(max_depth=5, min_samples_leaf=4, min_samples_split=3)</pre></div></div></div></div></div>"
      ],
      "text/plain": [
       "DecisionTreeRegressor(max_depth=5, min_samples_leaf=4, min_samples_split=3)"
      ]
     },
     "execution_count": 30,
     "metadata": {},
     "output_type": "execute_result"
    }
   ],
   "source": [
    "# Training the  DecisionTreeRegressor model with best parameters\n",
    "dtr = DecisionTreeRegressor(\n",
    "    max_depth= 5,\n",
    "    min_samples_leaf= 4,\n",
    "    min_samples_split= 3\n",
    ")\n",
    "\n",
    "dtr.fit(X_train_scaled, y_train)"
   ]
  },
  {
   "cell_type": "code",
   "execution_count": 31,
   "metadata": {},
   "outputs": [
    {
     "name": "stdout",
     "output_type": "stream",
     "text": [
      "MSE: 23.628593073226934 \n",
      "MAE: 3.3586487294867173\n"
     ]
    }
   ],
   "source": [
    "# Evaluate DecisiontreeRegressor model\n",
    "y_pred_dtr = dtr.predict(X_test_scaled)\n",
    "y_truth_dtr = y_test\n",
    "\n",
    "print('MSE:', mean_squared_error(y_pred_dtr, y_truth_dtr), '\\nMAE:', mean_absolute_error(y_pred_dtr, y_truth_dtr))"
   ]
  },
  {
   "cell_type": "code",
   "execution_count": 32,
   "metadata": {},
   "outputs": [
    {
     "data": {
      "image/png": "[encoded data removed]",
      "text/plain": [
       "<Figure size 640x480 with 1 Axes>"
      ]
     },
     "metadata": {},
     "output_type": "display_data"
    },
    {
     "data": {
      "image/png": "[encoded data removed]",
      "text/plain": [
       "<Figure size 640x480 with 1 Axes>"
      ]
     },
     "metadata": {},
     "output_type": "display_data"
    },
    {
     "data": {
      "image/png": "[encoded data removed]",
      "text/plain": [
       "<Figure size 640x480 with 1 Axes>"
      ]
     },
     "metadata": {},
     "output_type": "display_data"
    },
    {
     "data": {
      "image/png": "[encoded data removed]",
      "text/plain": [
       "<Figure size 640x480 with 1 Axes>"
      ]
     },
     "metadata": {},
     "output_type": "display_data"
    }
   ],
   "source": [
    "for model in ['lin', 'svr', 'gbr', 'dtr']:\n",
    "    plt.plot(globals()[f\"y_pred_{model}\"], 'r')\n",
    "    plt.plot(globals()[f\"y_truth_{model}\"], 'b')\n",
    "    plt.title(model)\n",
    "    plt.show()"
   ]
  },
  {
   "attachments": {},
   "cell_type": "markdown",
   "metadata": {},
   "source": [
    "### Step 6: Testing resutls with different amounts of n"
   ]
  },
  {
   "cell_type": "code",
   "execution_count": 33,
   "metadata": {},
   "outputs": [],
   "source": [
    "def train_test_scaled(n, train_data, test_data):\n",
    "    \n",
    "    # Only consider features about previous n weeks and 1 next week of each date\n",
    "    new_train_data = create_time_series_df(train_data, week_before=n, week_after=1)\n",
    "    new_test_data = create_time_series_df(test_data, week_before=n, week_after=1)\n",
    "    \n",
    "    # Only keep the features of prices of previos weeks and price of the next week of each date\n",
    "    new_train_data = new_train_data[[column for column in new_train_data.columns if ('Price' in column) == True]]\n",
    "    new_test_data = new_test_data[[column for column in new_train_data.columns if ('Price' in column) == True]]\n",
    "    \n",
    "    new_train_data = new_train_data.fillna(new_train_data.mean())\n",
    "    new_test_data = new_test_data.fillna(new_test_data.mean())\n",
    "    \n",
    "    # Scale the datapoints\n",
    "    X_train = new_train_data.iloc[:, :-1]\n",
    "    y_train = new_train_data['Price_t+1']\n",
    "\n",
    "    X_test = new_test_data.iloc[:, :-1]\n",
    "    y_test = new_test_data['Price_t+1']\n",
    "\n",
    "    scaler = StandardScaler()\n",
    "\n",
    "    scaler.fit(X_train)\n",
    "    X_train_scaled = scaler.transform(X_train)\n",
    "    X_test_scaled = scaler.transform(X_test)\n",
    "    \n",
    "    return X_train_scaled, y_train, X_test_scaled, y_test"
   ]
  },
  {
   "cell_type": "code",
   "execution_count": 34,
   "metadata": {},
   "outputs": [],
   "source": [
    "# !pip install tqdm"
   ]
  },
  {
   "cell_type": "code",
   "execution_count": 35,
   "metadata": {},
   "outputs": [
    {
     "name": "stderr",
     "output_type": "stream",
     "text": [
      " 27%|██▋       | 4/15 [00:36<01:40,  9.13s/it]\n"
     ]
    },
    {
     "ename": "KeyboardInterrupt",
     "evalue": "",
     "output_type": "error",
     "traceback": [
      "\u001b[1;31m---------------------------------------------------------------------------\u001b[0m",
      "\u001b[1;31mKeyboardInterrupt\u001b[0m                         Traceback (most recent call last)",
      "Cell \u001b[1;32mIn[35], line 14\u001b[0m\n\u001b[0;32m      5\u001b[0m models \u001b[39m=\u001b[39m {\n\u001b[0;32m      6\u001b[0m     \u001b[39m'\u001b[39m\u001b[39mlin\u001b[39m\u001b[39m'\u001b[39m: {},\n\u001b[0;32m      7\u001b[0m     \u001b[39m'\u001b[39m\u001b[39msvr\u001b[39m\u001b[39m'\u001b[39m: {},\n\u001b[0;32m      8\u001b[0m     \u001b[39m'\u001b[39m\u001b[39mgbr\u001b[39m\u001b[39m'\u001b[39m: {},\n\u001b[0;32m      9\u001b[0m     \u001b[39m'\u001b[39m\u001b[39mdtr\u001b[39m\u001b[39m'\u001b[39m: {}\n\u001b[0;32m     10\u001b[0m }\n\u001b[0;32m     12\u001b[0m \u001b[39mfor\u001b[39;00m n \u001b[39min\u001b[39;00m tqdm(n_range):\n\u001b[1;32m---> 14\u001b[0m     X_train_scaled, y_train, X_test_scaled, y_test \u001b[39m=\u001b[39m train_test_scaled(n, train_data, test_data)\n\u001b[0;32m     16\u001b[0m     \u001b[39m# Train lineaer Regression model for n previous weeks\u001b[39;00m\n\u001b[0;32m     17\u001b[0m     model \u001b[39m=\u001b[39m LinearRegression()\n",
      "Cell \u001b[1;32mIn[33], line 4\u001b[0m, in \u001b[0;36mtrain_test_scaled\u001b[1;34m(n, train_data, test_data)\u001b[0m\n\u001b[0;32m      1\u001b[0m \u001b[39mdef\u001b[39;00m \u001b[39mtrain_test_scaled\u001b[39m(n, train_data, test_data):\n\u001b[0;32m      2\u001b[0m     \n\u001b[0;32m      3\u001b[0m     \u001b[39m# Only consider features about previous n weeks and 1 next week of each date\u001b[39;00m\n\u001b[1;32m----> 4\u001b[0m     new_train_data \u001b[39m=\u001b[39m create_time_series_df(train_data, week_before\u001b[39m=\u001b[39;49mn, week_after\u001b[39m=\u001b[39;49m\u001b[39m1\u001b[39;49m)\n\u001b[0;32m      5\u001b[0m     new_test_data \u001b[39m=\u001b[39m create_time_series_df(test_data, week_before\u001b[39m=\u001b[39mn, week_after\u001b[39m=\u001b[39m\u001b[39m1\u001b[39m)\n\u001b[0;32m      7\u001b[0m     \u001b[39m# Only keep the features of prices of previos weeks and price of the next week of each date\u001b[39;00m\n",
      "Cell \u001b[1;32mIn[9], line 22\u001b[0m, in \u001b[0;36mcreate_time_series_df\u001b[1;34m(df, week_before, week_after)\u001b[0m\n\u001b[0;32m     19\u001b[0m         \u001b[39melse\u001b[39;00m:\n\u001b[0;32m     20\u001b[0m             new_data[col \u001b[39m+\u001b[39m \u001b[39mf\u001b[39m\u001b[39m\"\u001b[39m\u001b[39m_t+\u001b[39m\u001b[39m{\u001b[39;00mm\u001b[39m}\u001b[39;00m\u001b[39m\"\u001b[39m] \u001b[39m=\u001b[39m \u001b[39mNone\u001b[39;00m\n\u001b[1;32m---> 22\u001b[0m     new_df \u001b[39m=\u001b[39m pd\u001b[39m.\u001b[39;49mconcat([new_df, pd\u001b[39m.\u001b[39;49mDataFrame(new_data, index\u001b[39m=\u001b[39;49m[\u001b[39m0\u001b[39;49m])], ignore_index\u001b[39m=\u001b[39;49m\u001b[39mTrue\u001b[39;49;00m)\n\u001b[0;32m     23\u001b[0m \u001b[39mreturn\u001b[39;00m new_df\n",
      "File \u001b[1;32md:\\OpenAI ML Bootcamp\\venv\\lib\\site-packages\\pandas\\core\\reshape\\concat.py:385\u001b[0m, in \u001b[0;36mconcat\u001b[1;34m(objs, axis, join, ignore_index, keys, levels, names, verify_integrity, sort, copy)\u001b[0m\n\u001b[0;32m    370\u001b[0m     copy \u001b[39m=\u001b[39m \u001b[39mFalse\u001b[39;00m\n\u001b[0;32m    372\u001b[0m op \u001b[39m=\u001b[39m _Concatenator(\n\u001b[0;32m    373\u001b[0m     objs,\n\u001b[0;32m    374\u001b[0m     axis\u001b[39m=\u001b[39maxis,\n\u001b[1;32m   (...)\u001b[0m\n\u001b[0;32m    382\u001b[0m     sort\u001b[39m=\u001b[39msort,\n\u001b[0;32m    383\u001b[0m )\n\u001b[1;32m--> 385\u001b[0m \u001b[39mreturn\u001b[39;00m op\u001b[39m.\u001b[39;49mget_result()\n",
      "File \u001b[1;32md:\\OpenAI ML Bootcamp\\venv\\lib\\site-packages\\pandas\\core\\reshape\\concat.py:616\u001b[0m, in \u001b[0;36m_Concatenator.get_result\u001b[1;34m(self)\u001b[0m\n\u001b[0;32m    612\u001b[0m             indexers[ax] \u001b[39m=\u001b[39m obj_labels\u001b[39m.\u001b[39mget_indexer(new_labels)\n\u001b[0;32m    614\u001b[0m     mgrs_indexers\u001b[39m.\u001b[39mappend((obj\u001b[39m.\u001b[39m_mgr, indexers))\n\u001b[1;32m--> 616\u001b[0m new_data \u001b[39m=\u001b[39m concatenate_managers(\n\u001b[0;32m    617\u001b[0m     mgrs_indexers, \u001b[39mself\u001b[39;49m\u001b[39m.\u001b[39;49mnew_axes, concat_axis\u001b[39m=\u001b[39;49m\u001b[39mself\u001b[39;49m\u001b[39m.\u001b[39;49mbm_axis, copy\u001b[39m=\u001b[39;49m\u001b[39mself\u001b[39;49m\u001b[39m.\u001b[39;49mcopy\n\u001b[0;32m    618\u001b[0m )\n\u001b[0;32m    619\u001b[0m \u001b[39mif\u001b[39;00m \u001b[39mnot\u001b[39;00m \u001b[39mself\u001b[39m\u001b[39m.\u001b[39mcopy \u001b[39mand\u001b[39;00m \u001b[39mnot\u001b[39;00m using_copy_on_write():\n\u001b[0;32m    620\u001b[0m     new_data\u001b[39m.\u001b[39m_consolidate_inplace()\n",
      "File \u001b[1;32md:\\OpenAI ML Bootcamp\\venv\\lib\\site-packages\\pandas\\core\\internals\\concat.py:231\u001b[0m, in \u001b[0;36mconcatenate_managers\u001b[1;34m(mgrs_indexers, axes, concat_axis, copy)\u001b[0m\n\u001b[0;32m    225\u001b[0m vals \u001b[39m=\u001b[39m [ju\u001b[39m.\u001b[39mblock\u001b[39m.\u001b[39mvalues \u001b[39mfor\u001b[39;00m ju \u001b[39min\u001b[39;00m join_units]\n\u001b[0;32m    227\u001b[0m \u001b[39mif\u001b[39;00m \u001b[39mnot\u001b[39;00m blk\u001b[39m.\u001b[39mis_extension:\n\u001b[0;32m    228\u001b[0m     \u001b[39m# _is_uniform_join_units ensures a single dtype, so\u001b[39;00m\n\u001b[0;32m    229\u001b[0m     \u001b[39m#  we can use np.concatenate, which is more performant\u001b[39;00m\n\u001b[0;32m    230\u001b[0m     \u001b[39m#  than concat_compat\u001b[39;00m\n\u001b[1;32m--> 231\u001b[0m     values \u001b[39m=\u001b[39m np\u001b[39m.\u001b[39;49mconcatenate(vals, axis\u001b[39m=\u001b[39;49m\u001b[39m1\u001b[39;49m)\n\u001b[0;32m    232\u001b[0m \u001b[39melse\u001b[39;00m:\n\u001b[0;32m    233\u001b[0m     \u001b[39m# TODO(EA2D): special-casing not needed with 2D EAs\u001b[39;00m\n\u001b[0;32m    234\u001b[0m     values \u001b[39m=\u001b[39m concat_compat(vals, axis\u001b[39m=\u001b[39m\u001b[39m1\u001b[39m)\n",
      "File \u001b[1;32m<__array_function__ internals>:200\u001b[0m, in \u001b[0;36mconcatenate\u001b[1;34m(*args, **kwargs)\u001b[0m\n",
      "\u001b[1;31mKeyboardInterrupt\u001b[0m: "
     ]
    }
   ],
   "source": [
    "from tqdm import tqdm\n",
    "\n",
    "n_range = list(range(1, 16))\n",
    "\n",
    "models = {\n",
    "    'lin': {},\n",
    "    'svr': {},\n",
    "    'gbr': {},\n",
    "    'dtr': {}\n",
    "}\n",
    "\n",
    "for n in tqdm(n_range):\n",
    "    \n",
    "    X_train_scaled, y_train, X_test_scaled, y_test = train_test_scaled(n, train_data, test_data)\n",
    "    \n",
    "    # Train lineaer Regression model for n previous weeks\n",
    "    model = LinearRegression()\n",
    "    model.fit(X_train_scaled, y_train)\n",
    "    \n",
    "    # Evaluate linear model\n",
    "    y_pred = model.predict(X_test_scaled)\n",
    "    y_truth = y_test\n",
    "    \n",
    "    models['lin'][n] = {\n",
    "        'MSE': mean_squared_error(y_pred, y_truth),\n",
    "        'MAE': mean_absolute_error(y_pred, y_truth)\n",
    "    }\n",
    "    \n",
    "    # Train SVR model for n previous weeks\n",
    "    model = SVR(C=100, epsilon=0.1, gamma=0.01, kernel='linear')\n",
    "    model.fit(X_train_scaled, y_train)\n",
    "    \n",
    "    # Evaluate SVR model\n",
    "    y_pred = model.predict(X_test_scaled)\n",
    "    y_truth = y_test\n",
    "    \n",
    "    models['svr'][n] = {\n",
    "        'MSE': mean_squared_error(y_pred, y_truth),\n",
    "        'MAE': mean_absolute_error(y_pred, y_truth)\n",
    "    }\n",
    "    \n",
    "    # Train GBR model for n previous weeks\n",
    "    model = GradientBoostingRegressor()\n",
    "    model.fit(X_train_scaled, y_train)\n",
    "    \n",
    "    # Evaluate GBR model\n",
    "    y_pred = model.predict(X_test_scaled)\n",
    "    y_truth = y_test\n",
    "    \n",
    "    models['gbr'][n] = {\n",
    "        'MSE': mean_squared_error(y_pred, y_truth),\n",
    "        'MAE': mean_absolute_error(y_pred, y_truth)\n",
    "    }\n",
    "    \n",
    "    # Train DTR model for n previous weeks\n",
    "    model = DecisionTreeRegressor(max_depth= 5, min_samples_leaf= 4, min_samples_split= 3)\n",
    "    model.fit(X_train_scaled, y_train)\n",
    "    \n",
    "    # Evaluate DTR model\n",
    "    y_pred = model.predict(X_test_scaled)\n",
    "    y_truth = y_test\n",
    "    \n",
    "    models['dtr'][n] = {\n",
    "        'MSE': mean_squared_error(y_pred, y_truth),\n",
    "        'MAE': mean_absolute_error(y_pred, y_truth)\n",
    "    }"
   ]
  },
  {
   "cell_type": "code",
   "execution_count": null,
   "metadata": {},
   "outputs": [
    {
     "name": "stdout",
     "output_type": "stream",
     "text": [
      "{'svr_5': 2.920627875466646, 'svr_4': 2.9232409702038162, 'lin_5': 2.9241353612054395, 'svr_3': 2.925217534425263, 'svr_2': 2.926643134527072, 'lin_4': 2.9268313133264376, 'svr_1': 2.9271417766230394, 'lin_7': 2.9327135265129307, 'svr_6': 2.9331446550225357, 'svr_7': 2.933637464683585, 'lin_6': 2.9336599439212785, 'svr_8': 2.9354787631287804, 'lin_8': 2.937049632152545, 'lin_1': 2.942029149729405, 'lin_3': 2.9421880397075855, 'svr_9': 2.948559820657096, 'lin_2': 2.9492478499501353, 'lin_9': 2.9531408491882054, 'lin_10': 2.9542283751349583, 'lin_12': 2.9641699376724584, 'svr_10': 2.964746028391301, 'lin_11': 2.9649107220750457, 'svr_11': 2.9655001293309478, 'svr_13': 2.9673835340442642, 'svr_12': 2.9677528421813135, 'lin_14': 2.96791624992702, 'lin_13': 2.968248694444517, 'svr_14': 2.9715115698135723, 'gbr_1': 2.9722248703631147, 'lin_15': 2.973614261820881, 'svr_15': 2.977398500759725, 'gbr_2': 2.993672364296562, 'gbr_4': 3.008266394685123, 'gbr_3': 3.016349973013203, 'gbr_5': 3.0166042972364853, 'gbr_14': 3.0492799070788528, 'gbr_11': 3.0506582943725817, 'gbr_10': 3.0578147695268556, 'gbr_13': 3.06256119906284, 'gbr_8': 3.0643865020790164, 'gbr_15': 3.069734005011678, 'gbr_12': 3.0737907500381274, 'gbr_9': 3.0905846686234693, 'gbr_7': 3.090993700639282, 'gbr_6': 3.092704482908441, 'dtr_1': 3.1314160902440253, 'dtr_2': 3.135768329932589, 'dtr_4': 3.1993739149305496, 'dtr_6': 3.1993739149305496, 'dtr_3': 3.19937391493055, 'dtr_5': 3.1993739149305505, 'dtr_7': 3.2346751350548333, 'dtr_9': 3.2889910758967082, 'dtr_10': 3.3159266697393117, 'dtr_8': 3.358648729486717, 'dtr_12': 3.4765043509197526, 'dtr_13': 3.4765043509197526, 'dtr_14': 3.4765043509197535, 'dtr_15': 3.4765043509197535, 'dtr_11': 3.5809495089790775} \n",
      "\n",
      "{'lin_8': 17.50826429473429, 'lin_7': 17.554215030653967, 'lin_12': 17.55664135843112, 'lin_9': 17.569037153272262, 'lin_13': 17.575716716282447, 'lin_14': 17.57614545690405, 'lin_15': 17.576446020184534, 'lin_1': 17.57916363827618, 'lin_5': 17.581022847765286, 'lin_10': 17.581217599971858, 'lin_11': 17.606421359590865, 'lin_4': 17.626610246173453, 'svr_2': 17.647690430534713, 'svr_8': 17.651480160571374, 'svr_7': 17.65403447408005, 'svr_1': 17.66074983290539, 'lin_2': 17.662313602513947, 'svr_5': 17.665698975855115, 'lin_6': 17.668124010521172, 'svr_9': 17.708299804746616, 'svr_4': 17.723091075393544, 'svr_12': 17.743570828061397, 'svr_3': 17.746674041425194, 'svr_13': 17.767224619837197, 'svr_6': 17.796463712580426, 'svr_11': 17.808833783376446, 'lin_3': 17.811678474901704, 'svr_14': 17.819795614102002, 'svr_15': 17.843003264340656, 'svr_10': 17.86887841034298, 'gbr_1': 17.884569375159113, 'gbr_4': 18.48354243686985, 'gbr_2': 18.77779850109024, 'gbr_3': 18.927620704222015, 'gbr_5': 19.01621305430857, 'gbr_8': 19.197974202241653, 'gbr_10': 19.270720367247986, 'gbr_9': 19.39514788757229, 'gbr_6': 19.514550688545828, 'gbr_11': 19.523416317554734, 'gbr_7': 19.67029964592419, 'gbr_12': 19.72424685871038, 'gbr_13': 19.779917635190053, 'gbr_15': 19.91546842695177, 'gbr_14': 19.930211451624537, 'dtr_1': 20.195642264556152, 'dtr_2': 20.394347354548206, 'dtr_3': 20.865236056674146, 'dtr_4': 20.865236056674146, 'dtr_6': 20.865236056674146, 'dtr_5': 20.865236056674163, 'dtr_7': 20.996264186901282, 'dtr_9': 22.06573033098495, 'dtr_10': 22.81761586835777, 'dtr_8': 23.62859307322694, 'dtr_13': 24.07516565433236, 'dtr_14': 24.075165654332366, 'dtr_15': 24.075165654332366, 'dtr_12': 24.07516565433238, 'dtr_11': 25.011947963973732}\n"
     ]
    }
   ],
   "source": [
    "models_mse_error = {}\n",
    "models_mae_error = {}\n",
    "\n",
    "for k in models:\n",
    "    for n in models[k]:\n",
    "        models_mse_error[f\"{k}_{n}\"] = models[k][n]['MSE']\n",
    "        models_mae_error[f\"{k}_{n}\"] = models[k][n]['MAE']\n",
    "\n",
    "# Sort models based on their MSE and MAE\n",
    "sorted_mse_error = dict(sorted(models_mse_error.items(), key=lambda item: item[1]))\n",
    "sorted_mae_error = dict(sorted(models_mae_error.items(), key=lambda item: item[1]))\n",
    "\n",
    "# lin_8, svr_2, gbr_1, and dtr_1 have the least MSE\n",
    "# svr_5, lin_5, gbr_1, and dtr_1 have the least MAE\n",
    "print(sorted_mae_error, '\\n')\n",
    "print(sorted_mse_error)\n",
    "# Linear Regression model for the 5 previous weeks gives the best MAE and an aceptable MSE "
   ]
  },
  {
   "attachments": {},
   "cell_type": "markdown",
   "metadata": {},
   "source": [
    "### Step 7: Evaluate model based on all other features"
   ]
  },
  {
   "cell_type": "code",
   "execution_count": 9,
   "metadata": {},
   "outputs": [],
   "source": [
    "# Only consider features about previous 5 weeks and 1 next week of each date\n",
    "new_train_data = create_time_series_df(train_data, week_before=5, week_after=1)\n",
    "new_test_data = create_time_series_df(test_data, week_before=5, week_after=1)\n",
    "\n",
    "# Removing 't' columns from features\n",
    "new_train_data = new_train_data.iloc[:, 1:]\n",
    "new_test_data = new_test_data.iloc[:, 1:]\n",
    "\n",
    "new_train_data = new_train_data.fillna(new_train_data.mean())\n",
    "new_test_data = new_test_data.fillna(new_test_data.mean())\n",
    "\n",
    "# Scale the datapoints\n",
    "X_train = new_train_data.iloc[:, :-1]\n",
    "y_train = new_train_data['Price_t+1']\n",
    "\n",
    "X_test = new_test_data.iloc[:, :-1]\n",
    "y_test = new_test_data['Price_t+1']\n",
    "\n",
    "scaler = StandardScaler()\n",
    "\n",
    "scaler.fit(X_train)\n",
    "X_train_scaled = scaler.transform(X_train)\n",
    "X_test_scaled = scaler.transform(X_test)"
   ]
  },
  {
   "cell_type": "code",
   "execution_count": 12,
   "metadata": {},
   "outputs": [
    {
     "name": "stdout",
     "output_type": "stream",
     "text": [
      "MSE:  17.995588032037492 MAE:  2.86851978159951\n"
     ]
    }
   ],
   "source": [
    "# Train SVR model for 5 previous weeks\n",
    "model = SVR(C=100, epsilon=0.1, gamma=0.01, kernel='linear')\n",
    "model.fit(X_train_scaled, y_train)\n",
    "\n",
    "# Evaluate SVR model\n",
    "y_pred = model.predict(X_test_scaled)\n",
    "y_truth = y_test\n",
    "\n",
    "print('MSE: ', mean_squared_error(y_pred, y_truth), 'MAE: ', mean_absolute_error(y_pred, y_truth))"
   ]
  },
  {
   "attachments": {},
   "cell_type": "markdown",
   "metadata": {},
   "source": [
    "### Step 8: Select up to 12 column using Forward Selection"
   ]
  },
  {
   "cell_type": "code",
   "execution_count": 13,
   "metadata": {},
   "outputs": [],
   "source": [
    "from sklearn.feature_selection import SequentialFeatureSelector\n",
    "\n",
    "selector = SequentialFeatureSelector(model,\n",
    "                                     n_features_to_select=12,\n",
    "                                     direction='forward')\n",
    "\n",
    "# selector.fit() has been commented because it will take hell of a time to fit due to our large dataset\n",
    "# But the results will be used through out this step\n",
    "\n",
    "# selector.fit(X_train_scaled, y_train)"
   ]
  },
  {
   "cell_type": "code",
   "execution_count": null,
   "metadata": {},
   "outputs": [
    {
     "data": {
      "text/plain": [
       "array([ 0,  6,  7,  8,  9, 11, 13, 14, 17, 23, 27, 29], dtype=int64)"
      ]
     },
     "execution_count": 61,
     "metadata": {},
     "output_type": "execute_result"
    }
   ],
   "source": [
    "# selected_feature_indices = selector.get_support(indices=True)"
   ]
  },
  {
   "cell_type": "code",
   "execution_count": 14,
   "metadata": {},
   "outputs": [],
   "source": [
    "# The output of selector.get_support(indices=True) is:\n",
    "\n",
    "selected_feature_indices = [0, 6, 7, 8, 9, 11, 13, 14, 17, 23, 27, 29]"
   ]
  },
  {
   "cell_type": "code",
   "execution_count": 17,
   "metadata": {},
   "outputs": [
    {
     "data": {
      "text/html": [
       "<div>\n",
       "<style scoped>\n",
       "    .dataframe tbody tr th:only-of-type {\n",
       "        vertical-align: middle;\n",
       "    }\n",
       "\n",
       "    .dataframe tbody tr th {\n",
       "        vertical-align: top;\n",
       "    }\n",
       "\n",
       "    .dataframe thead th {\n",
       "        text-align: right;\n",
       "    }\n",
       "</style>\n",
       "<table border=\"1\" class=\"dataframe\">\n",
       "  <thead>\n",
       "    <tr style=\"text-align: right;\">\n",
       "      <th></th>\n",
       "      <th>Price_t-1</th>\n",
       "      <th>Price_t-2</th>\n",
       "      <th>Open_t-2</th>\n",
       "      <th>High_t-2</th>\n",
       "      <th>Low_t-2</th>\n",
       "      <th>Change %_t-2</th>\n",
       "      <th>Open_t-3</th>\n",
       "      <th>High_t-3</th>\n",
       "      <th>Change %_t-3</th>\n",
       "      <th>Change %_t-4</th>\n",
       "      <th>Low_t-5</th>\n",
       "      <th>Change %_t-5</th>\n",
       "    </tr>\n",
       "  </thead>\n",
       "  <tbody>\n",
       "    <tr>\n",
       "      <th>0</th>\n",
       "      <td>57.06</td>\n",
       "      <td>52.200000</td>\n",
       "      <td>53.49000</td>\n",
       "      <td>55.290000</td>\n",
       "      <td>49.930000</td>\n",
       "      <td>-3.010000</td>\n",
       "      <td>60.25000</td>\n",
       "      <td>61.210000</td>\n",
       "      <td>-10.720000</td>\n",
       "      <td>-2.250000</td>\n",
       "      <td>58.360000</td>\n",
       "      <td>5.040000</td>\n",
       "    </tr>\n",
       "    <tr>\n",
       "      <th>1</th>\n",
       "      <td>52.20</td>\n",
       "      <td>53.820000</td>\n",
       "      <td>60.25000</td>\n",
       "      <td>61.210000</td>\n",
       "      <td>52.790000</td>\n",
       "      <td>-10.720000</td>\n",
       "      <td>61.34000</td>\n",
       "      <td>62.330000</td>\n",
       "      <td>-2.250000</td>\n",
       "      <td>5.040000</td>\n",
       "      <td>57.500000</td>\n",
       "      <td>-0.150000</td>\n",
       "    </tr>\n",
       "    <tr>\n",
       "      <th>2</th>\n",
       "      <td>53.82</td>\n",
       "      <td>60.280000</td>\n",
       "      <td>61.34000</td>\n",
       "      <td>62.330000</td>\n",
       "      <td>59.330000</td>\n",
       "      <td>-2.250000</td>\n",
       "      <td>59.98000</td>\n",
       "      <td>63.730000</td>\n",
       "      <td>5.040000</td>\n",
       "      <td>-0.150000</td>\n",
       "      <td>58.410000</td>\n",
       "      <td>-11.920000</td>\n",
       "    </tr>\n",
       "    <tr>\n",
       "      <th>3</th>\n",
       "      <td>60.28</td>\n",
       "      <td>61.670000</td>\n",
       "      <td>59.98000</td>\n",
       "      <td>63.730000</td>\n",
       "      <td>58.360000</td>\n",
       "      <td>5.040000</td>\n",
       "      <td>58.98000</td>\n",
       "      <td>61.400000</td>\n",
       "      <td>-0.150000</td>\n",
       "      <td>-11.920000</td>\n",
       "      <td>64.610000</td>\n",
       "      <td>-4.870000</td>\n",
       "    </tr>\n",
       "    <tr>\n",
       "      <th>4</th>\n",
       "      <td>61.67</td>\n",
       "      <td>58.710000</td>\n",
       "      <td>58.98000</td>\n",
       "      <td>61.400000</td>\n",
       "      <td>57.500000</td>\n",
       "      <td>-0.150000</td>\n",
       "      <td>66.99000</td>\n",
       "      <td>67.640000</td>\n",
       "      <td>-11.920000</td>\n",
       "      <td>-4.870000</td>\n",
       "      <td>69.130000</td>\n",
       "      <td>-3.640000</td>\n",
       "    </tr>\n",
       "    <tr>\n",
       "      <th>...</th>\n",
       "      <td>...</td>\n",
       "      <td>...</td>\n",
       "      <td>...</td>\n",
       "      <td>...</td>\n",
       "      <td>...</td>\n",
       "      <td>...</td>\n",
       "      <td>...</td>\n",
       "      <td>...</td>\n",
       "      <td>...</td>\n",
       "      <td>...</td>\n",
       "      <td>...</td>\n",
       "      <td>...</td>\n",
       "    </tr>\n",
       "    <tr>\n",
       "      <th>1338</th>\n",
       "      <td>18.60</td>\n",
       "      <td>19.190000</td>\n",
       "      <td>19.25000</td>\n",
       "      <td>19.300000</td>\n",
       "      <td>18.960000</td>\n",
       "      <td>0.210000</td>\n",
       "      <td>18.98000</td>\n",
       "      <td>19.240000</td>\n",
       "      <td>1.270000</td>\n",
       "      <td>0.530000</td>\n",
       "      <td>18.730000</td>\n",
       "      <td>0.210000</td>\n",
       "    </tr>\n",
       "    <tr>\n",
       "      <th>1339</th>\n",
       "      <td>19.19</td>\n",
       "      <td>19.150000</td>\n",
       "      <td>18.98000</td>\n",
       "      <td>19.240000</td>\n",
       "      <td>18.720000</td>\n",
       "      <td>1.270000</td>\n",
       "      <td>18.82000</td>\n",
       "      <td>18.980000</td>\n",
       "      <td>0.530000</td>\n",
       "      <td>0.210000</td>\n",
       "      <td>50.907812</td>\n",
       "      <td>0.190388</td>\n",
       "    </tr>\n",
       "    <tr>\n",
       "      <th>1340</th>\n",
       "      <td>19.15</td>\n",
       "      <td>18.910000</td>\n",
       "      <td>18.82000</td>\n",
       "      <td>18.980000</td>\n",
       "      <td>18.710000</td>\n",
       "      <td>0.530000</td>\n",
       "      <td>18.98000</td>\n",
       "      <td>19.030000</td>\n",
       "      <td>0.210000</td>\n",
       "      <td>0.188567</td>\n",
       "      <td>50.907812</td>\n",
       "      <td>0.190388</td>\n",
       "    </tr>\n",
       "    <tr>\n",
       "      <th>1341</th>\n",
       "      <td>18.91</td>\n",
       "      <td>18.810000</td>\n",
       "      <td>18.98000</td>\n",
       "      <td>19.030000</td>\n",
       "      <td>18.730000</td>\n",
       "      <td>0.210000</td>\n",
       "      <td>52.60475</td>\n",
       "      <td>54.153065</td>\n",
       "      <td>0.180433</td>\n",
       "      <td>0.188567</td>\n",
       "      <td>50.907812</td>\n",
       "      <td>0.190388</td>\n",
       "    </tr>\n",
       "    <tr>\n",
       "      <th>1342</th>\n",
       "      <td>18.81</td>\n",
       "      <td>52.620946</td>\n",
       "      <td>52.60541</td>\n",
       "      <td>54.153912</td>\n",
       "      <td>50.914762</td>\n",
       "      <td>0.178055</td>\n",
       "      <td>52.60475</td>\n",
       "      <td>54.153065</td>\n",
       "      <td>0.180433</td>\n",
       "      <td>0.188567</td>\n",
       "      <td>50.907812</td>\n",
       "      <td>0.190388</td>\n",
       "    </tr>\n",
       "  </tbody>\n",
       "</table>\n",
       "<p>1343 rows × 12 columns</p>\n",
       "</div>"
      ],
      "text/plain": [
       "      Price_t-1  Price_t-2  Open_t-2   High_t-2    Low_t-2  Change %_t-2   \n",
       "0         57.06  52.200000  53.49000  55.290000  49.930000     -3.010000  \\\n",
       "1         52.20  53.820000  60.25000  61.210000  52.790000    -10.720000   \n",
       "2         53.82  60.280000  61.34000  62.330000  59.330000     -2.250000   \n",
       "3         60.28  61.670000  59.98000  63.730000  58.360000      5.040000   \n",
       "4         61.67  58.710000  58.98000  61.400000  57.500000     -0.150000   \n",
       "...         ...        ...       ...        ...        ...           ...   \n",
       "1338      18.60  19.190000  19.25000  19.300000  18.960000      0.210000   \n",
       "1339      19.19  19.150000  18.98000  19.240000  18.720000      1.270000   \n",
       "1340      19.15  18.910000  18.82000  18.980000  18.710000      0.530000   \n",
       "1341      18.91  18.810000  18.98000  19.030000  18.730000      0.210000   \n",
       "1342      18.81  52.620946  52.60541  54.153912  50.914762      0.178055   \n",
       "\n",
       "      Open_t-3   High_t-3  Change %_t-3  Change %_t-4    Low_t-5  Change %_t-5  \n",
       "0     60.25000  61.210000    -10.720000     -2.250000  58.360000      5.040000  \n",
       "1     61.34000  62.330000     -2.250000      5.040000  57.500000     -0.150000  \n",
       "2     59.98000  63.730000      5.040000     -0.150000  58.410000    -11.920000  \n",
       "3     58.98000  61.400000     -0.150000    -11.920000  64.610000     -4.870000  \n",
       "4     66.99000  67.640000    -11.920000     -4.870000  69.130000     -3.640000  \n",
       "...        ...        ...           ...           ...        ...           ...  \n",
       "1338  18.98000  19.240000      1.270000      0.530000  18.730000      0.210000  \n",
       "1339  18.82000  18.980000      0.530000      0.210000  50.907812      0.190388  \n",
       "1340  18.98000  19.030000      0.210000      0.188567  50.907812      0.190388  \n",
       "1341  52.60475  54.153065      0.180433      0.188567  50.907812      0.190388  \n",
       "1342  52.60475  54.153065      0.180433      0.188567  50.907812      0.190388  \n",
       "\n",
       "[1343 rows x 12 columns]"
      ]
     },
     "execution_count": 17,
     "metadata": {},
     "output_type": "execute_result"
    }
   ],
   "source": [
    "# We can do this section with selector.transform() but selector.fit() should run first\n",
    "X_train_selected = pd.DataFrame()\n",
    "X_test_selected =  pd.DataFrame()\n",
    "for index in selected_feature_indices:\n",
    "    col_name = X_train.columns[index]\n",
    "    X_train_selected[col_name] = X_train.iloc[:, index]\n",
    "    X_test_selected[col_name] = X_test.iloc[:, index]\n",
    "\n",
    "X_train_selected"
   ]
  },
  {
   "cell_type": "code",
   "execution_count": 21,
   "metadata": {},
   "outputs": [
    {
     "name": "stdout",
     "output_type": "stream",
     "text": [
      "MSE:  17.805880732105823 MAE:  2.909374380995529\n"
     ]
    }
   ],
   "source": [
    "# Scale the datapoints\n",
    "scaler = StandardScaler()\n",
    "scaler.fit(X_train_selected)\n",
    "X_train_scaled = scaler.transform(X_train_selected)\n",
    "X_test_scaled = scaler.transform(X_test_selected)\n",
    "\n",
    "# Train SVR model for 5 previous weeks\n",
    "model = SVR(C=100, epsilon=0.1, gamma=0.01, kernel='linear')\n",
    "model.fit(X_train_scaled, y_train)\n",
    "\n",
    "# Evaluate SVR model\n",
    "y_pred = model.predict(X_test_scaled)\n",
    "y_truth = y_test\n",
    "\n",
    "print('MSE: ', mean_squared_error(y_pred, y_truth), 'MAE: ', mean_absolute_error(y_pred, y_truth))"
   ]
  },
  {
   "attachments": {},
   "cell_type": "markdown",
   "metadata": {},
   "source": [
    "### Step 9: Predict the price of following 4 weeks based on past 12 weeks"
   ]
  },
  {
   "cell_type": "code",
   "execution_count": 9,
   "metadata": {},
   "outputs": [],
   "source": [
    "# Only consider features about previous 12 weeks and 4 next week of each date\n",
    "new_train_data = create_time_series_df(train_data, week_before=12, week_after=4)\n",
    "new_test_data = create_time_series_df(test_data, week_before=12, week_after=4)\n",
    "\n",
    "# Removing 't' columns from features\n",
    "new_train_data = new_train_data.iloc[:, 1:]\n",
    "new_test_data = new_test_data.iloc[:, 1:]\n",
    "\n",
    "new_train_data = new_train_data.fillna(new_train_data.mean())\n",
    "new_test_data = new_test_data.fillna(new_test_data.mean())\n",
    "\n",
    "# Scale the datapoints\n",
    "X_train = new_train_data.iloc[:, :-4]\n",
    "y_train = new_train_data.iloc[:, -4:]\n",
    "\n",
    "X_test = new_test_data.iloc[:, :-4]\n",
    "y_test = new_test_data.iloc[:, -4:]\n",
    "\n",
    "scaler = StandardScaler()\n",
    "\n",
    "scaler.fit(X_train)\n",
    "X_train_scaled = scaler.transform(X_train)\n",
    "X_test_scaled = scaler.transform(X_test)"
   ]
  },
  {
   "cell_type": "code",
   "execution_count": 10,
   "metadata": {},
   "outputs": [
    {
     "name": "stdout",
     "output_type": "stream",
     "text": [
      "MSE: 38.82128384247388 \n",
      "MAE: 4.52527709689655\n"
     ]
    }
   ],
   "source": [
    "# Train a lineaer Regression model\n",
    "model = LinearRegression()\n",
    "model.fit(X_train_scaled, y_train)\n",
    "\n",
    "# Evaluate the lineaer Regression model\n",
    "y_pred_lin = model.predict(X_test_scaled)\n",
    "y_truth_lin = y_test\n",
    "\n",
    "print('MSE:', mean_squared_error(y_pred_lin, y_truth_lin), '\\nMAE:', mean_absolute_error(y_pred_lin, y_truth_lin))"
   ]
  },
  {
   "cell_type": "code",
   "execution_count": 38,
   "metadata": {},
   "outputs": [
    {
     "data": {
      "text/plain": [
       "\"\\nparameters = {\\n    'kernel': ('linear', 'rbf','poly'),\\n    'C':[1, 10, 100],\\n    'gamma': [1e-2, 0.1, 0.4, 0.8],\\n    'epsilon':[1e-2, 0.1, 0.4, 0.8]\\n}\\n\""
      ]
     },
     "execution_count": 38,
     "metadata": {},
     "output_type": "execute_result"
    }
   ],
   "source": [
    "# Finding best SVR parameters by suing GridSearchCV\n",
    "svr = SVR()\n",
    "\n",
    "'''\n",
    "parameters = {\n",
    "    'kernel': ('linear', 'rbf','poly'),\n",
    "    'C':[1, 10, 100],\n",
    "    'gamma': [1e-2, 0.1, 0.4, 0.8],\n",
    "    'epsilon':[1e-2, 0.1, 0.4, 0.8]\n",
    "}\n",
    "'''\n",
    "\n",
    "# After using GridSearchCV, the best parameters are:\n",
    "# {'C': 10, 'epsilon': 0.1, 'gamma': 0.01, 'kernel': 'linear'}\n",
    "\n",
    "\n",
    "# models = []\n",
    "# for i in range(4):\n",
    "#     y_train_target = y_train.iloc[:, i]\n",
    "#     y_train_target_1d = y_train_target.values.flatten()\n",
    "\n",
    "#     best_svr = GridSearchCV(svr, parameters, cv=3, verbose=10, n_jobs=-1)\n",
    "#     best_svr.fit(X_train, y_train_target_1d)\n",
    "#     models.append(best_svr)"
   ]
  },
  {
   "cell_type": "code",
   "execution_count": 12,
   "metadata": {},
   "outputs": [
    {
     "name": "stdout",
     "output_type": "stream",
     "text": [
      "MSE: 38.83177325044287 \n",
      "MAE: 4.521931621645259\n"
     ]
    }
   ],
   "source": [
    "best_params_ = {'C': 10, 'epsilon': 0.1, 'gamma': 0.01, 'kernel': 'linear'}\n",
    "\n",
    "# Define an SVR model with the best hyperparameters\n",
    "model = SVR(\n",
    "    C=best_params_['C'], \n",
    "    epsilon=best_params_['epsilon'], \n",
    "    gamma=best_params_['gamma'], \n",
    "    kernel=best_params_['kernel']\n",
    ")\n",
    "\n",
    "# Train the SVR model for each target variable and Make predictions for each target variable\n",
    "predictions = []\n",
    "for i in range(4):\n",
    "    y_train_target = y_train.iloc[:, i]\n",
    "    y_train_target_1d = y_train_target.values.flatten()\n",
    "    \n",
    "    model.fit(X_train_scaled, y_train_target_1d)\n",
    "\n",
    "    y_test_target = y_test.iloc[:, i]\n",
    "    y_test_target_1d = y_test_target.values.flatten()\n",
    "    \n",
    "    prediction = model.predict(X_test_scaled)\n",
    "    predictions.append(prediction)\n",
    "\n",
    "\n",
    "y_pred_svr = pd.DataFrame(np.array(predictions).T, columns=y_test.columns)\n",
    "y_truth_svr = y_test\n",
    "\n",
    "print('MSE:', mean_squared_error(y_pred_svr, y_truth_svr), '\\nMAE:', mean_absolute_error(y_pred_svr, y_truth_svr))"
   ]
  },
  {
   "cell_type": "code",
   "execution_count": 37,
   "metadata": {},
   "outputs": [
    {
     "data": {
      "text/plain": [
       "\"\\nparameters = {\\n    'max_depth': [80, 90, 100, 110],\\n    'max_features': [2, 3],\\n    'min_samples_leaf': [3, 4, 5],\\n    'min_samples_split': [8, 10, 12],\\n    'n_estimators': [100, 200, 300, 1000]\\n}\\n\""
      ]
     },
     "execution_count": 37,
     "metadata": {},
     "output_type": "execute_result"
    }
   ],
   "source": [
    "# Finding best GBR parameters by suing GridSearchCV\n",
    "gbr = GradientBoostingRegressor()\n",
    "\n",
    "'''\n",
    "parameters = {\n",
    "    'max_depth': [80, 90, 100, 110],\n",
    "    'max_features': [2, 3],\n",
    "    'min_samples_leaf': [3, 4, 5],\n",
    "    'min_samples_split': [8, 10, 12],\n",
    "    'n_estimators': [100, 200, 300, 1000]\n",
    "}\n",
    "'''\n",
    "\n",
    "# After using GridSearchCV, the best parameters are:\n",
    "# {'max_depth': 110, 'max_features': 3, 'min_samples_leaf': 4, 'min_samples_split': 12, 'n_estimators': 1000}\n",
    "# but the default numbers fot parameters gives a lower ERROR\n",
    "\n",
    "# models = []\n",
    "# for i in range(4):\n",
    "#     y_train_target = y_train.iloc[:, i]\n",
    "#     y_train_target_1d = y_train_target.values.flatten()\n",
    "\n",
    "#     best_gbr = GridSearchCV(gbr, parameters, scoring=['neg_mean_absolute_error', 'neg_mean_squared_error'], cv=3, verbose=10, n_jobs=-1, refit=False)\n",
    "#     best_gbr.fit(X_train, y_train_target_1d)\n",
    "#     models.append(best_gbr)\n"
   ]
  },
  {
   "cell_type": "code",
   "execution_count": 36,
   "metadata": {},
   "outputs": [
    {
     "name": "stdout",
     "output_type": "stream",
     "text": [
      "MSE: 58.01482217328472 \n",
      "MAE: 5.723565675061274\n"
     ]
    }
   ],
   "source": [
    "best_params_ = {'max_depth': 110, 'max_features': 3, 'min_samples_leaf': 4, 'min_samples_split': 12, 'n_estimators': 1000}\n",
    "\n",
    "# Define an GBR model with the best hyperparameters\n",
    "model = GradientBoostingRegressor(\n",
    "    max_depth=best_params_['max_depth'],\n",
    "    max_features=best_params_['max_features'],\n",
    "    min_samples_leaf=best_params_['min_samples_leaf'],\n",
    "    min_samples_split=best_params_['min_samples_split'],\n",
    "    n_estimators=best_params_['n_estimators']\n",
    ")\n",
    "\n",
    "# Train the GBR model for each target variable and Make predictions for each target variable\n",
    "predictions = []\n",
    "for i in range(4):\n",
    "    y_train_target = y_train.iloc[:, i]\n",
    "    y_train_target_1d = y_train_target.values.flatten()\n",
    "    \n",
    "    model.fit(X_train_scaled, y_train_target_1d)\n",
    "\n",
    "    y_test_target = y_test.iloc[:, i]\n",
    "    y_test_target_1d = y_test_target.values.flatten()\n",
    "    \n",
    "    prediction = model.predict(X_test_scaled)\n",
    "    predictions.append(prediction)\n",
    "\n",
    "\n",
    "y_pred_gbr = pd.DataFrame(np.array(predictions).T, columns=y_test.columns)\n",
    "y_truth_gbr = y_test\n",
    "\n",
    "print('MSE:', mean_squared_error(y_pred_gbr, y_truth_gbr), '\\nMAE:', mean_absolute_error(y_pred_gbr, y_truth_gbr))\n"
   ]
  },
  {
   "cell_type": "code",
   "execution_count": 32,
   "metadata": {},
   "outputs": [
    {
     "data": {
      "text/plain": [
       "\"\\nparameters = {\\n    'max_depth': list(range(1, 6)),\\n    'min_samples_leaf': list(range(2, 6)),\\n    'min_samples_split': list(range(1, 6))\\n}\\n\""
      ]
     },
     "execution_count": 32,
     "metadata": {},
     "output_type": "execute_result"
    }
   ],
   "source": [
    "# Finding best DTR parameters by suing GridSearchCV\n",
    "dtr = DecisionTreeRegressor()\n",
    "\n",
    "'''\n",
    "parameters = {\n",
    "    'max_depth': list(range(1, 6)),\n",
    "    'min_samples_leaf': list(range(2, 6)),\n",
    "    'min_samples_split': list(range(1, 6))\n",
    "}\n",
    "'''\n",
    "\n",
    "# After using GridSearchCV, the best parameters are:\n",
    "# {'max_depth': 5, 'min_samples_leaf': 3, 'min_samples_split': 4}\n",
    "\n",
    "# models = []\n",
    "# for i in range(4):\n",
    "#     y_train_target = y_train.iloc[:, i]\n",
    "#     y_train_target_1d = y_train_target.values.flatten()\n",
    "\n",
    "#     best_dtr = GridSearchCV(dtr, parameters, scoring='neg_mean_absolute_error', cv=9, verbose=10, n_jobs=-1)\n",
    "#     best_dtr.fit(X_train, y_train_target_1d)\n",
    "#     models.append(best_dtr)"
   ]
  },
  {
   "cell_type": "code",
   "execution_count": 33,
   "metadata": {},
   "outputs": [
    {
     "name": "stdout",
     "output_type": "stream",
     "text": [
      "MSE: 49.848978280262614 \n",
      "MAE: 5.2202933844822335\n"
     ]
    }
   ],
   "source": [
    "best_params_ = {'max_depth': 5, 'min_samples_leaf': 3, 'min_samples_split': 4}\n",
    "\n",
    "# Define a DecisionTreeRegressor model with the best hyperparameters\n",
    "model = DecisionTreeRegressor(\n",
    "    max_depth= best_params_['max_depth'],\n",
    "    min_samples_leaf= best_params_['min_samples_leaf'],\n",
    "    min_samples_split= best_params_['min_samples_split']\n",
    ")\n",
    "\n",
    "# Train the DecisionTreeRegressor model for each target variable and Make predictions for each target variable\n",
    "predictions = []\n",
    "for i in range(4):\n",
    "    y_train_target = y_train.iloc[:, i]\n",
    "    y_train_target_1d = y_train_target.values.flatten()\n",
    "    \n",
    "    model.fit(X_train_scaled, y_train_target_1d)\n",
    "\n",
    "    y_test_target = y_test.iloc[:, i]\n",
    "    y_test_target_1d = y_test_target.values.flatten()\n",
    "    \n",
    "    prediction = model.predict(X_test_scaled)\n",
    "    predictions.append(prediction)\n",
    "\n",
    "\n",
    "y_pred_dtr = pd.DataFrame(np.array(predictions).T, columns=y_test.columns)\n",
    "y_truth_dtr = y_test\n",
    "\n",
    "print('MSE:', mean_squared_error(y_pred_dtr, y_truth_dtr), '\\nMAE:', mean_absolute_error(y_pred_dtr, y_truth_dtr))"
   ]
  },
  {
   "cell_type": "code",
   "execution_count": null,
   "metadata": {},
   "outputs": [],
   "source": []
  }
 ],
 "metadata": {
  "kernelspec": {
   "display_name": "Python 3 (ipykernel)",
   "language": "python",
   "name": "python3"
  },
  "language_info": {
   "codemirror_mode": {
    "name": "ipython",
    "version": 3
   },
   "file_extension": ".py",
   "mimetype": "text/x-python",
   "name": "python",
   "nbconvert_exporter": "python",
   "pygments_lexer": "ipython3",
   "version": "3.10.9"
  },
  "toc-showtags": false
 },
 "nbformat": 4,
 "nbformat_minor": 4
}
